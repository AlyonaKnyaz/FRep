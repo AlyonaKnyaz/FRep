{
 "cells": [
  {
   "cell_type": "code",
   "execution_count": 36,
   "metadata": {},
   "outputs": [
    {
     "name": "stdout",
     "output_type": "stream",
     "text": [
      "[0, 0.06666666666666667, 0.13333333333333333, 0.2, 0.26666666666666666, 0.3333333333333333, 0.39999999999999997, 0.4666666666666666, 0.5333333333333333, 0.6, 0.6666666666666666, 0.7333333333333333, 0.7999999999999999, 0.8666666666666666, 0.9333333333333332, 0.9999999999999999]\n"
     ]
    }
   ],
   "source": [
    "import math\n",
    "a=0\n",
    "b=1\n",
    "N=15\n",
    "l=[a]\n",
    "y=[1]\n",
    "for i in range(1,N+1):\n",
    "    l.append(l[i-1]+(b-a)/N)\n",
    "print(l)\n",
    "h=(b-a)/N"
   ]
  },
  {
   "cell_type": "code",
   "execution_count": 37,
   "metadata": {},
   "outputs": [],
   "source": [
    "def Koshi(l,y):\n",
    "    for i in range(1,N+1):\n",
    "        y.append(y[i-1]+(l[i]-l[i-1])*(2*l[i-1]*y[i-1]))\n",
    "    \n",
    "      \n",
    "\n",
    "def RK(l,y):\n",
    "    for i in range(1,N+1):\n",
    "        y.append(y[i-1]+h*2*(l[i-1]+h/2)*(y[i-1]+h*(l[i-1]*y[i-1])))\n",
    "        \n",
    "RK(l,y)"
   ]
  },
  {
   "cell_type": "code",
   "execution_count": 38,
   "metadata": {
    "collapsed": true
   },
   "outputs": [],
   "source": [
    "ya=[]\n",
    "delt=[]\n",
    "for i in range(0,N+1):\n",
    "    ya.append(math.exp(math.pow(l[i],2)))\n",
    "\n",
    "\n",
    "for j in range(0,N+1):\n",
    "    delt.append(math.fabs(y[j]-ya[j]))\n"
   ]
  },
  {
   "cell_type": "code",
   "execution_count": 39,
   "metadata": {},
   "outputs": [
    {
     "name": "stdout",
     "output_type": "stream",
     "text": [
      "0.00000   1.00000   1.00000   0.00000\n",
      "0.06667   1.00444   1.00445   0.00001\n",
      "0.13333   1.01790   1.01794   0.00004\n",
      "0.20000   1.04072   1.04081   0.00009\n",
      "0.26667   1.07353   1.07370   0.00017\n",
      "0.33333   1.11723   1.11752   0.00029\n",
      "0.40000   1.17307   1.17351   0.00045\n",
      "0.46667   1.24265   1.24331   0.00066\n",
      "0.53333   1.32807   1.32902   0.00095\n",
      "0.60000   1.43198   1.43333   0.00135\n",
      "0.66667   1.55774   1.55962   0.00188\n",
      "0.73333   1.70959   1.71220   0.00261\n",
      "0.80000   1.89289   1.89648   0.00359\n",
      "0.86667   2.11443   2.11935   0.00492\n",
      "0.93333   2.38283   2.38956   0.00674\n",
      "1.00000   2.70905   2.71828   0.00923\n"
     ]
    }
   ],
   "source": [
    "for t in range(0,N+1):\n",
    "    print(\"%.5f\" %l[t],' ',\"%.5f\" %y[t],' ', \"%.5f\" %ya[t],' ', \"%.5f\" %delt[t])\n",
    "    "
   ]
  },
  {
   "cell_type": "code",
   "execution_count": 9,
   "metadata": {
    "collapsed": true
   },
   "outputs": [],
   "source": [
    "N1=452"
   ]
  },
  {
   "cell_type": "code",
   "execution_count": null,
   "metadata": {
    "collapsed": true
   },
   "outputs": [],
   "source": []
  }
 ],
 "metadata": {
  "kernelspec": {
   "display_name": "Python 3",
   "language": "python",
   "name": "python3"
  },
  "language_info": {
   "codemirror_mode": {
    "name": "ipython",
    "version": 3
   },
   "file_extension": ".py",
   "mimetype": "text/x-python",
   "name": "python",
   "nbconvert_exporter": "python",
   "pygments_lexer": "ipython3",
   "version": "3.6.3"
  }
 },
 "nbformat": 4,
 "nbformat_minor": 2
}
