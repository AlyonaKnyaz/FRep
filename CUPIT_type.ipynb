{
 "cells": [
  {
   "cell_type": "markdown",
   "metadata": {},
   "source": [
    "#                        Здесь мы будем классифицировать отзывы по типам продуктов. \n",
    "                    Для начала импортируем необходимые библиотеки и загружаем обучающую выбурку."
   ]
  },
  {
   "cell_type": "code",
   "execution_count": 1,
   "metadata": {},
   "outputs": [
    {
     "data": {
      "text/html": [
       "<div>\n",
       "<style scoped>\n",
       "    .dataframe tbody tr th:only-of-type {\n",
       "        vertical-align: middle;\n",
       "    }\n",
       "\n",
       "    .dataframe tbody tr th {\n",
       "        vertical-align: top;\n",
       "    }\n",
       "\n",
       "    .dataframe thead th {\n",
       "        text-align: right;\n",
       "    }\n",
       "</style>\n",
       "<table border=\"1\" class=\"dataframe\">\n",
       "  <thead>\n",
       "    <tr style=\"text-align: right;\">\n",
       "      <th></th>\n",
       "      <th>type</th>\n",
       "      <th>title</th>\n",
       "      <th>text</th>\n",
       "    </tr>\n",
       "  </thead>\n",
       "  <tbody>\n",
       "    <tr>\n",
       "      <th>0</th>\n",
       "      <td>Кредит</td>\n",
       "      <td>Просьба об отмене штрафа КАСКО</td>\n",
       "      <td>Здравствуйте! 10.06.2016г. мною был заключен д...</td>\n",
       "    </tr>\n",
       "    <tr>\n",
       "      <th>1</th>\n",
       "      <td>Ипотека</td>\n",
       "      <td>В целом хорошо, работали по ипотеке.</td>\n",
       "      <td>Брала  ипотеку в юникоре, порадовали квалифика...</td>\n",
       "    </tr>\n",
       "    <tr>\n",
       "      <th>2</th>\n",
       "      <td>Реструктуризация</td>\n",
       "      <td>Нас всегда выручает банк Уралсиб!</td>\n",
       "      <td>Знакомство с банком началось с ипотеки в 2009 ...</td>\n",
       "    </tr>\n",
       "    <tr>\n",
       "      <th>3</th>\n",
       "      <td>Вклад</td>\n",
       "      <td>Абсолютно неприемлемая ситуация и ее решение</td>\n",
       "      <td>Клиент Совкомбанка с 2017 года. В феврале 2018...</td>\n",
       "    </tr>\n",
       "    <tr>\n",
       "      <th>4</th>\n",
       "      <td>Кредит</td>\n",
       "      <td>Внёс не туда</td>\n",
       "      <td>Пришёл оплачивать кредит и ошибочно внёс деньг...</td>\n",
       "    </tr>\n",
       "  </tbody>\n",
       "</table>\n",
       "</div>"
      ],
      "text/plain": [
       "               type                                         title  \\\n",
       "0            Кредит                Просьба об отмене штрафа КАСКО   \n",
       "1           Ипотека          В целом хорошо, работали по ипотеке.   \n",
       "2  Реструктуризация             Нас всегда выручает банк Уралсиб!   \n",
       "3             Вклад  Абсолютно неприемлемая ситуация и ее решение   \n",
       "4            Кредит                                  Внёс не туда   \n",
       "\n",
       "                                                text  \n",
       "0  Здравствуйте! 10.06.2016г. мною был заключен д...  \n",
       "1  Брала  ипотеку в юникоре, порадовали квалифика...  \n",
       "2  Знакомство с банком началось с ипотеки в 2009 ...  \n",
       "3  Клиент Совкомбанка с 2017 года. В феврале 2018...  \n",
       "4  Пришёл оплачивать кредит и ошибочно внёс деньг...  "
      ]
     },
     "execution_count": 1,
     "metadata": {},
     "output_type": "execute_result"
    }
   ],
   "source": [
    "#импортируем необходимые библиотеки\n",
    "import pandas\n",
    "import re\n",
    "from sklearn.feature_extraction.text import TfidfVectorizer\n",
    "from sklearn import model_selection\n",
    "from sklearn.feature_selection import SelectKBest, chi2\n",
    "from sklearn.svm import LinearSVC\n",
    "#загружаем обучающую выборку\n",
    "data = pandas.read_csv('train_data.csv',index_col='Unnamed: 0')\n",
    "data.head()"
   ]
  },
  {
   "cell_type": "markdown",
   "metadata": {},
   "source": [
    "                        Смотрим на уникальные значения категорий."
   ]
  },
  {
   "cell_type": "code",
   "execution_count": 2,
   "metadata": {},
   "outputs": [
    {
     "data": {
      "text/plain": [
       "array(['Кредит', 'Ипотека', 'Реструктуризация', 'Вклад', 'Бизнес услуги',\n",
       "       'Обслуживание физ. и юр. лиц', 'Дебетовая карта',\n",
       "       'Денежные переводы', 'Инвестиционные продукты'], dtype=object)"
      ]
     },
     "execution_count": 2,
     "metadata": {},
     "output_type": "execute_result"
    }
   ],
   "source": [
    "#смотрим какие значения может принимать type\n",
    "pandas.unique((data['type'].values).tolist())"
   ]
  },
  {
   "cell_type": "code",
   "execution_count": 3,
   "metadata": {},
   "outputs": [],
   "source": [
    "#заменяем строковые переменные на целые значения для классификации\n",
    "data['type'] = data['type'].map({'Кредит': 0, 'Ипотека': 1,'Реструктуризация': 2,'Вклад':3,\n",
    "                                 'Бизнес услуги': 4,'Обслуживание физ. и юр. лиц': 5, 'Дебетовая карта':6,\n",
    "                                 'Денежные переводы':7,'Инвестиционные продукты':8})"
   ]
  },
  {
   "cell_type": "code",
   "execution_count": 4,
   "metadata": {},
   "outputs": [],
   "source": [
    "#сохраняем значения type в целевую переменную\n",
    "y = data['type'].values"
   ]
  },
  {
   "cell_type": "markdown",
   "metadata": {},
   "source": [
    "                Теперь обрабатываем сам текст и приводим его к нужному для дальнейшей работы виду."
   ]
  },
  {
   "cell_type": "code",
   "execution_count": null,
   "metadata": {},
   "outputs": [],
   "source": [
    "#объединяем заголовок с отзывом в один текст для анализа и приводим к нижнему регистру\n",
    "for index,row in data.iterrows():\n",
    "    data['text'][index]=row['title']+\" \"+row['text']\n",
    "for index,row in data.iterrows():    \n",
    "    data['text'][index]=row['text'].lower()"
   ]
  },
  {
   "cell_type": "code",
   "execution_count": null,
   "metadata": {},
   "outputs": [],
   "source": [
    "#очищаем текст от знаков припинания и чисел \n",
    "reg = re.compile('[^а-яА-я ]')\n",
    "for index,row in data.iterrows():\n",
    "    data['text'][index]=reg.sub('',row['text'])"
   ]
  },
  {
   "cell_type": "code",
   "execution_count": 7,
   "metadata": {},
   "outputs": [],
   "source": [
    "#удаляем ненужные столбцы\n",
    "data=data.drop(['type','title'],1)"
   ]
  },
  {
   "cell_type": "code",
   "execution_count": 8,
   "metadata": {},
   "outputs": [],
   "source": [
    "#составляет словарь стоп-слов\n",
    "dictionary=[\"и\",\"в\",\"на\",\"с\",\"мне\",\"я\",\"банк\",\"для\", \"по\", \"со\", \"из\", \"от\", \"до\", \"без\", \"над\", \"под\", \"за\", \"при\", \"после\", \n",
    "            \"во\",\"это\",\"или\", \"но\", \"дабы\", \"затем\", \"потом\", \"коли\", \"лишь только\",\"как\", \"так\", \"еще\", \"тот\", \"откуда\", \"зачем\",\n",
    "            \"почему\", \"значительно\",\"он\", \"мы\", \"его\", \"вы\", \"вам\", \"вас\", \"ее\", \"что\", \"который\",\"которая\",\"которое\", \"их\", \n",
    "            \"все\", \"они\", \"я\", \"весь\", \"мне\", \"меня\", \"таким\", \"весь\", \"всех\",\"кб\", \"мб\", \"дн\", \"руб\", \"ул\", \"кв\", \"дн\", \"гг\",\n",
    "            \"всего\", \"почти\", \"примерно\", \"около\", \"порядка\",\"скажем\", \"может\", \"допустим\", \"например\", \n",
    "            \"однако\", \"вообще\", \"вообщем\", \"вероятно\", \"скорее\",\"ой\", \"ого\", \"эх\", \"браво\", \n",
    "            \"здравствуйте\", \"спасибо\", \"извините\", \"пожалуйста\",\"банком\",\"банке\",\"банка\",\"не\",\"к\"]"
   ]
  },
  {
   "cell_type": "code",
   "execution_count": null,
   "metadata": {},
   "outputs": [],
   "source": [
    "#очищаем данные от стоп-слов и применяем TF-IDF\n",
    "vectorizer = TfidfVectorizer(sublinear_tf=True, max_df=0.7,analyzer='word',stop_words=dictionary)\n",
    "data_vectorized = vectorizer.fit_transform(data['text'])"
   ]
  },
  {
   "cell_type": "markdown",
   "metadata": {},
   "source": [
    "            В этом блоке выбираем наиболее информативные признаки и смотрим на показатель качества лучшей модели."
   ]
  },
  {
   "cell_type": "code",
   "execution_count": 10,
   "metadata": {},
   "outputs": [],
   "source": [
    "#выбираем наиболее информативные признаки\n",
    "ch2 = SelectKBest(chi2, k=25000)\n",
    "X_train = ch2.fit_transform(data_vectorized, y)"
   ]
  },
  {
   "cell_type": "code",
   "execution_count": 11,
   "metadata": {},
   "outputs": [
    {
     "name": "stdout",
     "output_type": "stream",
     "text": [
      "Score:0.7028737618369728\n"
     ]
    }
   ],
   "source": [
    "#проверяем качество нашей лучшей модели на кросс-валидации\n",
    "kf = model_selection.KFold(n_splits=5,shuffle=True,random_state=22)\n",
    "lsvc=LinearSVC(C=0.8,tol=0.8,random_state=22)\n",
    "sc=model_selection.cross_val_score(lsvc, X_train, y,cv=kf,scoring='accuracy')\n",
    "print(f\"Score:{sc.mean()}\")"
   ]
  },
  {
   "cell_type": "markdown",
   "metadata": {},
   "source": [
    "                        Здесь готовим тестовую выборку к обработке и получаем наш ответ."
   ]
  },
  {
   "cell_type": "code",
   "execution_count": null,
   "metadata": {},
   "outputs": [],
   "source": [
    "#загружаем тестовую выборку\n",
    "test_data=pandas.read_csv('test_data.csv')\n",
    "#преобразуем тестовую выборку \n",
    "for index,row in test_data.iterrows():\n",
    "    test_data['text'][index]=row['title']+\" \"+row['text']\n",
    "for index,row in test_data.iterrows():    \n",
    "    test_data['text'][index]=row['text'].lower()\n",
    "for index,row in test_data.iterrows():\n",
    "    test_data['text'][index]=reg.sub('',row['text'])    \n",
    "\n",
    "test_data=test_data.drop(['Unnamed: 0','title'],1)\n",
    "test_data_vectorized = vectorizer.transform(test_data['text'])\n",
    "X_test = ch2.transform(test_data_vectorized)\n",
    "#задаем и обучаем классификатор\n",
    "lsvc=LinearSVC(C=0.8,tol=0.8,random_state=22)\n",
    "lsvc.fit(X_train, y)\n",
    "#делаем предсказания\n",
    "pred = lsvc.predict(X_test)\n",
    "#готовим предсказания к переводу в csv файл\n",
    "ind=[]\n",
    "for i in range(0,2750):\n",
    "    ind.append(i)\n",
    "types=[]\n",
    "for i in pred:\n",
    "    if i==0:\n",
    "        types.append('Кредит')\n",
    "    if i==1:\n",
    "        types.append('Ипотека')\n",
    "    if i==2:\n",
    "        types.append('Реструктуризация')\n",
    "    if i==3:\n",
    "        types.append(\"Вклад\")    \n",
    "    if i==4:\n",
    "        types.append('Бизнес услуги')\n",
    "    if i==5:\n",
    "        types.append('Обслуживание физ. и юр. лиц')\n",
    "    if i==6:\n",
    "        types.append('Дебетовая карта')\n",
    "    if i==7:\n",
    "        types.append('Денежные переводы')\n",
    "    if i==8:\n",
    "        types.append('Инвестиционные продукты')  \n",
    "df_ind=pandas.DataFrame(ind,index=None,columns=['index'])\n",
    "df_types=pandas.DataFrame(types,index=None,columns=['type'])\n",
    "df=df_ind.join(df_types)\n",
    "df.to_csv('class_answer.csv',index=False)"
   ]
  }
 ],
 "metadata": {
  "kernelspec": {
   "display_name": "Python 3",
   "language": "python",
   "name": "python3"
  },
  "language_info": {
   "codemirror_mode": {
    "name": "ipython",
    "version": 3
   },
   "file_extension": ".py",
   "mimetype": "text/x-python",
   "name": "python",
   "nbconvert_exporter": "python",
   "pygments_lexer": "ipython3",
   "version": "3.6.8"
  }
 },
 "nbformat": 4,
 "nbformat_minor": 2
}
