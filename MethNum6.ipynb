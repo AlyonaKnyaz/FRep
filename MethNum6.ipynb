{
 "cells": [
  {
   "cell_type": "code",
   "execution_count": 1,
   "metadata": {
    "collapsed": true
   },
   "outputs": [],
   "source": [
    "#A=[[10.5,-7,0],\n",
    "#   [-3,6.2,2],\n",
    "#   [5,-1,5.8]]\n",
    "A=[[0.00001,4,-90,500],\n",
    "   [-150,0.00001,50,-1600],\n",
    "   [-27,-36,0.00001,8],\n",
    "   [9,12,-1000,0.00001]\n",
    "    ]\n",
    "L=[]\n",
    "U=[]\n",
    "n=len(A)\n",
    "for i in range(0,n):\n",
    "    L.append([])\n",
    "    for j in range(0,n):\n",
    "        L[i].append(0)\n",
    "    \n",
    "for i in range(0,n):\n",
    "    U.append([])\n",
    "    for j in range(0,n):\n",
    "        U[i].append(A[i][j])\n"
   ]
  },
  {
   "cell_type": "code",
   "execution_count": 2,
   "metadata": {
    "collapsed": true
   },
   "outputs": [],
   "source": [
    "for i in range(0,n):\n",
    "    for j in range(i,n):\n",
    "        L[j][i]=U[j][i]/U[i][i]\n",
    "\n",
    "\n",
    "for k in range(1,n):\n",
    "    for i in range(k-1,n):\n",
    "        for j in range(i,n):\n",
    "            L[j][i]=U[j][i]/U[i][i]\n",
    "\n",
    "    for i in range(k,n): \n",
    "        for j in range(k-1,n): \n",
    "            U[i][j]=U[i][j]-L[i][k-1]*U[k-1][j]\n",
    "            \n",
    "\n"
   ]
  },
  {
   "cell_type": "code",
   "execution_count": 3,
   "metadata": {},
   "outputs": [
    {
     "name": "stdout",
     "output_type": "stream",
     "text": [
      "\n",
      "1.00000  0.00000  0.00000  0.00000  \n",
      "-15000000.00000  1.00000  0.00000  0.00000  \n",
      "-2700000.00000  0.18000  1.00000  0.00000  \n",
      "900000.00000  -0.06000  0.88767  1.00000  \n",
      "\n",
      "0.00001  4.00000  -90.00000  500.00000  \n",
      "0.00000  60000000.00001  -1349999950.00000  7499998400.00000  \n",
      "0.00000  0.00000  -819.00000  4795.99926  \n",
      "0.00000  0.00000  0.00000  -5853.25426  \n",
      "\n",
      "\n",
      "0.00000000000000000000  0.00000000000000000000  0.00000000000000000000  0.00000000000000000000  \n",
      "0.00000000000000000000  -0.00000000132083892822  0.00000000000000000000  0.00000000000000000000  \n",
      "0.00000000000000000000  0.00000000000000000000  0.00000001358032226562  0.00000000000000000000  \n",
      "0.00000000000000355271  0.00000000000000000000  0.00000000000000000000  0.00000001358032226562  "
     ]
    }
   ],
   "source": [
    "for i in range(0,n):\n",
    "    print()\n",
    "    for j in range(0,n):\n",
    "        print(\"%.5f\" %L[i][j],end='  ')\n",
    "        \n",
    "print()        \n",
    "for i in range(0,n):\n",
    "    print()\n",
    "    for j in range(0,n):\n",
    "        print(\"%.5f\" %U[i][j],end='  ')\n",
    "print()\n",
    "print()\n",
    "        \n",
    "import numpy as np\n",
    "S=np.dot(L,U)\n",
    "\n",
    "for i in range(0,n):\n",
    "    print()\n",
    "    for j in range(0,n):\n",
    "        print(\"%.20f\" %(S[i][j]-A[i][j]),end='  ')\n",
    "#print(\"%.7f\" %(np.dot(L,U)-A))\n"
   ]
  },
  {
   "cell_type": "code",
   "execution_count": null,
   "metadata": {
    "collapsed": true
   },
   "outputs": [],
   "source": []
  },
  {
   "cell_type": "code",
   "execution_count": null,
   "metadata": {
    "collapsed": true
   },
   "outputs": [],
   "source": []
  }
 ],
 "metadata": {
  "kernelspec": {
   "display_name": "Python 3",
   "language": "python",
   "name": "python3"
  },
  "language_info": {
   "codemirror_mode": {
    "name": "ipython",
    "version": 3
   },
   "file_extension": ".py",
   "mimetype": "text/x-python",
   "name": "python",
   "nbconvert_exporter": "python",
   "pygments_lexer": "ipython3",
   "version": "3.6.3"
  }
 },
 "nbformat": 4,
 "nbformat_minor": 2
}
