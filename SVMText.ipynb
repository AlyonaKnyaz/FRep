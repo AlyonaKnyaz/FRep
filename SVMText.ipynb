{
 "cells": [
  {
   "cell_type": "code",
   "execution_count": 1,
   "metadata": {},
   "outputs": [
    {
     "name": "stderr",
     "output_type": "stream",
     "text": [
      "Downloading 20news dataset. This may take a few minutes.\n",
      "Downloading dataset from https://ndownloader.figshare.com/files/5975967 (14 MB)\n"
     ]
    }
   ],
   "source": [
    "from sklearn import datasets\n",
    "\n",
    "newsgroups = datasets.fetch_20newsgroups(\n",
    "                    subset='all', \n",
    "                    categories=['alt.atheism', 'sci.space']\n",
    "             )"
   ]
  },
  {
   "cell_type": "code",
   "execution_count": 3,
   "metadata": {},
   "outputs": [],
   "source": [
    "from sklearn.feature_extraction.text import TfidfVectorizer\n",
    "\n",
    "vectorizer = TfidfVectorizer()\n",
    "newsgroups_data = vectorizer.fit_transform(newsgroups.data)\n",
    "\n",
    "from sklearn import svm,model_selection\n",
    "import math\n",
    "clf=[]\n",
    "c=math.pow(10,-6)\n",
    "for i in range(12):\n",
    "    c = c*10\n",
    "    clf.append(svm.SVC( kernel='linear',C = c,random_state=241))\n",
    "\n",
    "kf = model_selection.KFold(n_splits=5,shuffle=True,random_state=241)\n",
    "score=[]\n",
    "for i in clf:\n",
    "    score.append(model_selection.cross_val_score(i, newsgroups_data, newsgroups.target, cv=kf, scoring='accuracy'))"
   ]
  },
  {
   "cell_type": "code",
   "execution_count": 4,
   "metadata": {},
   "outputs": [
    {
     "data": {
      "text/plain": [
       "[0.5526360264776301,\n",
       " 0.5526360264776301,\n",
       " 0.5526360264776301,\n",
       " 0.5526360264776301,\n",
       " 0.9501635290987904,\n",
       " 0.9932804406678872,\n",
       " 0.9932804406678872,\n",
       " 0.9932804406678872,\n",
       " 0.9932804406678872,\n",
       " 0.9932804406678872,\n",
       " 0.9932804406678872,\n",
       " 0.9932804406678872]"
      ]
     },
     "execution_count": 4,
     "metadata": {},
     "output_type": "execute_result"
    }
   ],
   "source": [
    "scoreacc=[]\n",
    "for i in score:\n",
    "    scoreacc.append(i.mean())\n",
    "scoreacc"
   ]
  },
  {
   "cell_type": "code",
   "execution_count": 89,
   "metadata": {},
   "outputs": [
    {
     "data": {
      "text/plain": [
       "SVC(C=1.0, cache_size=200, class_weight=None, coef0=0.0,\n",
       "  decision_function_shape='ovr', degree=3, gamma='auto', kernel='linear',\n",
       "  max_iter=-1, probability=False, random_state=241, shrinking=True,\n",
       "  tol=0.001, verbose=False)"
      ]
     },
     "execution_count": 89,
     "metadata": {},
     "output_type": "execute_result"
    }
   ],
   "source": [
    "clf1=svm.SVC( kernel='linear',C = 1.0,random_state=241)\n",
    "clf1.fit(newsgroups_data, newsgroups.target)"
   ]
  },
  {
   "cell_type": "code",
   "execution_count": 88,
   "metadata": {},
   "outputs": [
    {
     "name": "stdout",
     "output_type": "stream",
     "text": [
      "1.0\n"
     ]
    }
   ],
   "source": [
    "c=math.pow(10,-6)\n",
    "for i in range(12):\n",
    "    c = c*10\n",
    "    if i==5:\n",
    "        print(c)"
   ]
  },
  {
   "cell_type": "code",
   "execution_count": 90,
   "metadata": {},
   "outputs": [
    {
     "name": "stdout",
     "output_type": "stream",
     "text": [
      "god -1.9203794002294938\n",
      "atheism -1.2546899512384038\n",
      "atheists -1.2491800073760075\n",
      "religion -1.13908083789883\n",
      "bible -1.130612344664901\n",
      "keith -1.0970936466401482\n",
      "cobb -1.0276613013999627\n",
      "religious -1.0014449730535782\n",
      "mathew -0.9918866491732269\n",
      "edu -0.9499864856743558\n",
      "ether 0.8076424386563046\n",
      "ca 0.8184381022252832\n",
      "gamma 0.8235253776152156\n",
      "launch 0.838716019676135\n",
      "dc 0.8706787257593029\n",
      "nasa 1.0242229174571824\n",
      "sci 1.0293069271856938\n",
      "sky 1.1801315951388633\n",
      "moon 1.2016111817520696\n",
      "space 2.6631647884797105\n"
     ]
    }
   ],
   "source": [
    "import numpy as np\n",
    "def most_informative_feature_for_class_svm(vectorizer, classifier, n=10):\n",
    "    labelid = -1 # this is the coef we're interested in. \n",
    "    feature_names = vectorizer.get_feature_names()\n",
    "    svm_coef = classifier.coef_.toarray() \n",
    "    topn = sorted(zip(svm_coef[labelid], feature_names))[:n]\n",
    "    topn1 = sorted(zip(svm_coef[labelid], feature_names))[-n:]\n",
    "\n",
    "    for coef, feat in topn:\n",
    "        print(feat, coef)\n",
    "    for coef, feat in topn1:\n",
    "        print(feat, coef)\n",
    "        \n",
    "most_informative_feature_for_class_svm(vectorizer, clf1)"
   ]
  },
  {
   "cell_type": "code",
   "execution_count": 27,
   "metadata": {},
   "outputs": [
    {
     "name": "stdout",
     "output_type": "stream",
     "text": [
      "eureca\n",
      "uuxpresso\n",
      "rwing\n",
      "bothell\n",
      "canadarm\n",
      "atlantis\n",
      "023220\n",
      "projectile\n",
      "distribution\n"
     ]
    }
   ],
   "source": [
    "ether 0.8076424386563046\n",
    "ca 0.8184381022252832\n",
    "gamma 0.8235253776152156\n",
    "launch 0.838716019676135\n",
    "dc 0.8706787257593029\n",
    "nasa 1.0242229174571824\n",
    "sci 1.0293069271856938\n",
    "sky 1.1801315951388633\n",
    "moon 1.2016111817520696\n",
    "space 2.6631647884797105\n",
    "\n",
    "god -1.9203794002294938\n",
    "atheism -1.2546899512384038\n",
    "atheists -1.2491800073760075\n",
    "religion -1.13908083789883\n",
    "bible -1.130612344664901\n",
    "keith -1.0970936466401482\n",
    "cobb -1.0276613013999627\n",
    "religious -1.0014449730535782\n",
    "mathew -0.9918866491732269\n",
    "edu -0.9499864856743558\n",
    "\n",
    "space\n",
    "god\n",
    "atheism\n",
    "atheists\n",
    "moon\n",
    "sky\n",
    "religion\n",
    "bible\n",
    "keith\n",
    "cobb\n"
   ]
  },
  {
   "cell_type": "code",
   "execution_count": null,
   "metadata": {},
   "outputs": [],
   "source": []
  }
 ],
 "metadata": {
  "kernelspec": {
   "display_name": "Python 3",
   "language": "python",
   "name": "python3"
  },
  "language_info": {
   "codemirror_mode": {
    "name": "ipython",
    "version": 3
   },
   "file_extension": ".py",
   "mimetype": "text/x-python",
   "name": "python",
   "nbconvert_exporter": "python",
   "pygments_lexer": "ipython3",
   "version": "3.7.0"
  }
 },
 "nbformat": 4,
 "nbformat_minor": 2
}
