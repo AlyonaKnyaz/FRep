{
 "cells": [
  {
   "cell_type": "code",
   "execution_count": 71,
   "metadata": {},
   "outputs": [
    {
     "name": "stdout",
     "output_type": "stream",
     "text": [
      "[0, 0.038461538461538464, 0.07692307692307693, 0.11538461538461539, 0.15384615384615385, 0.19230769230769232, 0.23076923076923078, 0.2692307692307693, 0.3076923076923077, 0.34615384615384615, 0.3846153846153846, 0.423076923076923, 0.46153846153846145, 0.4999999999999999, 0.5384615384615383, 0.5769230769230768, 0.6153846153846152, 0.6538461538461536, 0.6923076923076921, 0.7307692307692305, 0.7692307692307689, 0.8076923076923074, 0.8461538461538458, 0.8846153846153842, 0.9230769230769227, 0.9615384615384611, 0.9999999999999996]\n"
     ]
    }
   ],
   "source": [
    "import math\n",
    "N=26\n",
    "a=0\n",
    "b=1\n",
    "l=[a]\n",
    "\n",
    "for i in range(1,N+1):\n",
    "    l.append(l[i-1]+(b-a)/N)\n",
    "print(l)"
   ]
  },
  {
   "cell_type": "code",
   "execution_count": 72,
   "metadata": {},
   "outputs": [
    {
     "name": "stdout",
     "output_type": "stream",
     "text": [
      "[1.0, 1.039210757944791, 1.0799589994281866, 1.1223050103450638, 1.16631144044593, 1.2120433960254957, 1.2595685362456337, 1.3089571732352359, 1.3602823761150602, 1.4136200791014726, 1.4690491938490164, 1.5266517261980204, 1.586512897499968, 1.648721270700128, 1.7133688813639787, 1.7805513738412786, 1.8503681427692336, 1.9229224801241103, 1.9983217280388534, 2.076677437612801, 2.158105533948445, 2.242726487659411, 2.3306654931033948, 2.4220526536037488, 2.5170231739337434, 2.6157175603482887, 2.718281828459044]\n"
     ]
    }
   ],
   "source": [
    "zn=[]\n",
    "for i in l:\n",
    "    e=math.exp(i)\n",
    "    #e=math.pow((math.sin(i*math.cos(2*i)))/(math.pow(i,2)+5),2)\n",
    "    zn.append(e)\n",
    "print(zn)"
   ]
  },
  {
   "cell_type": "code",
   "execution_count": 73,
   "metadata": {
    "collapsed": true
   },
   "outputs": [],
   "source": [
    "def I0(sx,sy):\n",
    "    I=0\n",
    "    for i in range(0,len(sx)-1):\n",
    "        I+=sy[i]*(sx[i+1]-sx[i])\n",
    "    return(I)"
   ]
  },
  {
   "cell_type": "code",
   "execution_count": 74,
   "metadata": {
    "collapsed": true
   },
   "outputs": [],
   "source": [
    "def I1(sx,sy):\n",
    "    I=0\n",
    "    for i in range(0,len(sx)-1):\n",
    "        I+=(sy[i+1]+sy[i])*(sx[i+1]-sx[i])/2\n",
    "    return(I)"
   ]
  },
  {
   "cell_type": "code",
   "execution_count": 75,
   "metadata": {
    "collapsed": true
   },
   "outputs": [],
   "source": [
    "def I2(sx,sy):\n",
    "    I=0\n",
    "    A=0\n",
    "    B=0\n",
    "    k=int((len(sx)-1)/2+1)\n",
    "    for i in range(1,k):\n",
    "        if i!=k-1:\n",
    "            A+=sy[2*i]\n",
    "        B+=sy[2*i-1]\n",
    "    I=(sy[0]+2*A+4*B+sy[len(sy)-1])*(b-a)/(3*(len(sx)-1))\n",
    "    return(I)"
   ]
  },
  {
   "cell_type": "code",
   "execution_count": 77,
   "metadata": {},
   "outputs": [
    {
     "name": "stdout",
     "output_type": "stream",
     "text": [
      "26   1.6854497617   1.7184936430   1.7182818493 1.718281828459045\n"
     ]
    }
   ],
   "source": [
    "print(N,' ',\"%.10f\" %I0(l,zn),' ',\"%.10f\" %I1(l,zn),' ',\"%.10f\" %I2(l,zn), math.exp(1)-1)\n"
   ]
  },
  {
   "cell_type": "code",
   "execution_count": null,
   "metadata": {},
   "outputs": [],
   "source": []
  },
  {
   "cell_type": "code",
   "execution_count": null,
   "metadata": {
    "collapsed": true
   },
   "outputs": [],
   "source": []
  }
 ],
 "metadata": {
  "kernelspec": {
   "display_name": "Python 3",
   "language": "python",
   "name": "python3"
  },
  "language_info": {
   "codemirror_mode": {
    "name": "ipython",
    "version": 3
   },
   "file_extension": ".py",
   "mimetype": "text/x-python",
   "name": "python",
   "nbconvert_exporter": "python",
   "pygments_lexer": "ipython3",
   "version": "3.6.3"
  }
 },
 "nbformat": 4,
 "nbformat_minor": 2
}
