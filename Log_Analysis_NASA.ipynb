{
 "cells": [
  {
   "cell_type": "markdown",
   "metadata": {},
   "source": [
    "\n",
    "# Анализ Access Log серверов NASA за июль 1995 года"
   ]
  },
  {
   "cell_type": "markdown",
   "metadata": {},
   "source": [
    "Для начала импортируем необходимые модули, загружаем access log и выводим его начало. "
   ]
  },
  {
   "cell_type": "code",
   "execution_count": 1,
   "metadata": {
    "collapsed": true
   },
   "outputs": [],
   "source": [
    "import re\n",
    "import pandas as pd\n",
    "import numpy as np\n",
    "import matplotlib.pyplot as plt\n",
    "%matplotlib inline\n",
    "\n",
    "df = pd.read_csv(\"access_log_Jul95.log\", sep=\" - - \\[| |] \\\"|\\\" \",usecols=['Host','Time','Timezone','Method','Request','Protocol','Status','Byte'],names=['Host','Time','Timezone','Method','Request','Protocol','Status','Byte'], engine='python')#,skiprows=9001)"
   ]
  },
  {
   "cell_type": "code",
   "execution_count": 2,
   "metadata": {},
   "outputs": [
    {
     "data": {
      "text/html": [
       "<div>\n",
       "<style scoped>\n",
       "    .dataframe tbody tr th:only-of-type {\n",
       "        vertical-align: middle;\n",
       "    }\n",
       "\n",
       "    .dataframe tbody tr th {\n",
       "        vertical-align: top;\n",
       "    }\n",
       "\n",
       "    .dataframe thead th {\n",
       "        text-align: right;\n",
       "    }\n",
       "</style>\n",
       "<table border=\"1\" class=\"dataframe\">\n",
       "  <thead>\n",
       "    <tr style=\"text-align: right;\">\n",
       "      <th></th>\n",
       "      <th>Host</th>\n",
       "      <th>Time</th>\n",
       "      <th>Timezone</th>\n",
       "      <th>Method</th>\n",
       "      <th>Request</th>\n",
       "      <th>Protocol</th>\n",
       "      <th>Status</th>\n",
       "      <th>Byte</th>\n",
       "    </tr>\n",
       "  </thead>\n",
       "  <tbody>\n",
       "    <tr>\n",
       "      <th>0</th>\n",
       "      <td>199.72.81.55</td>\n",
       "      <td>01/Jul/1995:00:00:01</td>\n",
       "      <td>-400.0</td>\n",
       "      <td>GET</td>\n",
       "      <td>/history/apollo/</td>\n",
       "      <td>HTTP/1.0</td>\n",
       "      <td>200</td>\n",
       "      <td>6245</td>\n",
       "    </tr>\n",
       "    <tr>\n",
       "      <th>1</th>\n",
       "      <td>unicomp6.unicomp.net</td>\n",
       "      <td>01/Jul/1995:00:00:06</td>\n",
       "      <td>-400.0</td>\n",
       "      <td>GET</td>\n",
       "      <td>/shuttle/countdown/</td>\n",
       "      <td>HTTP/1.0</td>\n",
       "      <td>200</td>\n",
       "      <td>3985</td>\n",
       "    </tr>\n",
       "    <tr>\n",
       "      <th>2</th>\n",
       "      <td>199.120.110.21</td>\n",
       "      <td>01/Jul/1995:00:00:09</td>\n",
       "      <td>-400.0</td>\n",
       "      <td>GET</td>\n",
       "      <td>/shuttle/missions/sts-73/mission-sts-73.html</td>\n",
       "      <td>HTTP/1.0</td>\n",
       "      <td>200</td>\n",
       "      <td>4085</td>\n",
       "    </tr>\n",
       "    <tr>\n",
       "      <th>3</th>\n",
       "      <td>burger.letters.com</td>\n",
       "      <td>01/Jul/1995:00:00:11</td>\n",
       "      <td>-400.0</td>\n",
       "      <td>GET</td>\n",
       "      <td>/shuttle/countdown/liftoff.html</td>\n",
       "      <td>HTTP/1.0</td>\n",
       "      <td>304</td>\n",
       "      <td>0</td>\n",
       "    </tr>\n",
       "    <tr>\n",
       "      <th>4</th>\n",
       "      <td>199.120.110.21</td>\n",
       "      <td>01/Jul/1995:00:00:11</td>\n",
       "      <td>-400.0</td>\n",
       "      <td>GET</td>\n",
       "      <td>/shuttle/missions/sts-73/sts-73-patch-small.gif</td>\n",
       "      <td>HTTP/1.0</td>\n",
       "      <td>200</td>\n",
       "      <td>4179</td>\n",
       "    </tr>\n",
       "  </tbody>\n",
       "</table>\n",
       "</div>"
      ],
      "text/plain": [
       "                   Host                  Time  Timezone Method  \\\n",
       "0          199.72.81.55  01/Jul/1995:00:00:01    -400.0    GET   \n",
       "1  unicomp6.unicomp.net  01/Jul/1995:00:00:06    -400.0    GET   \n",
       "2        199.120.110.21  01/Jul/1995:00:00:09    -400.0    GET   \n",
       "3    burger.letters.com  01/Jul/1995:00:00:11    -400.0    GET   \n",
       "4        199.120.110.21  01/Jul/1995:00:00:11    -400.0    GET   \n",
       "\n",
       "                                           Request  Protocol Status  Byte  \n",
       "0                                 /history/apollo/  HTTP/1.0    200  6245  \n",
       "1                              /shuttle/countdown/  HTTP/1.0    200  3985  \n",
       "2     /shuttle/missions/sts-73/mission-sts-73.html  HTTP/1.0    200  4085  \n",
       "3                  /shuttle/countdown/liftoff.html  HTTP/1.0    304     0  \n",
       "4  /shuttle/missions/sts-73/sts-73-patch-small.gif  HTTP/1.0    200  4179  "
      ]
     },
     "execution_count": 2,
     "metadata": {},
     "output_type": "execute_result"
    }
   ],
   "source": [
    "df.head()"
   ]
  },
  {
   "cell_type": "markdown",
   "metadata": {},
   "source": [
    "Далее считаем количество обращений к каждому урлу и выводим список, который уже ранжирован по убыванию количества обращений."
   ]
  },
  {
   "cell_type": "code",
   "execution_count": 4,
   "metadata": {},
   "outputs": [
    {
     "name": "stdout",
     "output_type": "stream",
     "text": [
      "/images/NASA-logosmall.gif                                                111388\n",
      "/images/KSC-logosmall.gif                                                  89639\n",
      "/images/MOSAIC-logosmall.gif                                               60468\n",
      "/images/USA-logosmall.gif                                                  60014\n",
      "/images/WORLD-logosmall.gif                                                59489\n",
      "/images/ksclogo-medium.gif                                                 58802\n",
      "/images/launch-logo.gif                                                    40871\n",
      "/shuttle/countdown/                                                        40279\n",
      "/ksc.html                                                                  40231\n",
      "/images/ksclogosmall.gif                                                   33585\n",
      "/                                                                          32910\n",
      "/history/apollo/images/apollo-logo1.gif                                    31072\n",
      "/shuttle/missions/missions.html                                            24865\n",
      "/htbin/cdt_main.pl                                                         22626\n",
      "/shuttle/countdown/count.gif                                               22216\n",
      "/shuttle/countdown/liftoff.html                                            22000\n",
      "/shuttle/countdown/count70.gif                                             20957\n",
      "/images/launchmedium.gif                                                   20812\n",
      "/shuttle/missions/sts-71/sts-71-patch-small.gif                            19853\n",
      "/shuttle/missions/sts-70/sts-70-patch-small.gif                            18159\n",
      "/icons/menu.xbm                                                            17053\n",
      "/icons/blank.xbm                                                           16795\n",
      "/shuttle/missions/sts-71/mission-sts-71.html                               16717\n",
      "/history/apollo/images/footprint-logo.gif                                  16175\n",
      "/shuttle/missions/sts-70/mission-sts-70.html                               16123\n",
      "/shuttle/missions/sts-71/images/images.html                                15897\n",
      "/history/apollo/apollo.html                                                14476\n",
      "/history/apollo/images/footprint-small.gif                                 13920\n",
      "/history/apollo/apollo-13/apollo-13.html                                   13768\n",
      "/history/apollo/apollo-13/apollo-13-patch-small.gif                        13014\n",
      "                                                                           ...  \n",
      "/cgi-bin/imagemap/countdown?314,271                                            1\n",
      "/htbin/wais.pl?astronaut+selection                                             1\n",
      "/cgi-bin/imagemap/countdown?157,277                                            1\n",
      "/cgi-bin/imagemap/countdown70?76,245                                           1\n",
      "/cgi-bin/imagemap/countdown70?51,221                                           1\n",
      "/cgi-bin/imagemap/countdown?445,301                                            1\n",
      "/cgi-bin/imagemap/countdown?105,214                                            1\n",
      "/cgi-bin/imagemap/countdown70?330,283                                          1\n",
      "/cgi-bin/imagemap/countdown70?82,217                                           1\n",
      "/htbin/wais.pl?radiation+effects                                               1\n",
      "/htbin/wais.pl?Launch+Readiness+Review                                         1\n",
      "/cgi-bin/imagemap/countdown70?77,222                                           1\n",
      "/cgi-bin/imagemap/countdown70?65,230                                           1\n",
      "/payloads/org/cg-iso.html                                                      1\n",
      "/shuttle/technology/sts-newsref/stsover-prep.html#stsover-ees                  1\n",
      "/cgi-bin/imagemap/countdown70?385,278                                          1\n",
      "/cgi-bin/imagemap/fr?202,474                                                   1\n",
      "/Harvest/brokers/www/query.html                                                1\n",
      "/htbin/wais.pl?shuttle+AND+mir                                                 1\n",
      "/htbin/wais.pl?nasa+mpeg                                                       1\n",
      "/cgi-bin/imagemap/countdown?378,282                                            1\n",
      "/cgi-bin/imagemap/onboard?367,231                                              1\n",
      "/gsfc.html                                                                     1\n",
      "/cgi-bin/imagemap/fr?284,27                                                    1\n",
      "/cgi-bin/imagemap/countdown70?335,151                                          1\n",
      "/cgi-bin/imagemap/fr?328,317                                                   1\n",
      "/cgi-bin/imagemap/countdown70?56,294                                           1\n",
      "/shuttle/technology/sts-newsref/stsover-launch.html#stsover-prelnfinal         1\n",
      "/software/winvin/                                                              1\n",
      "/cgi-bin/imagemap/countdown70?212,69                                           1\n",
      "Name: Request, Length: 21214, dtype: int64\n"
     ]
    }
   ],
   "source": [
    "url_count=df['Request'].value_counts()\n",
    "print(url_count)"
   ]
  },
  {
   "cell_type": "markdown",
   "metadata": {},
   "source": [
    "Теперь мы можем найти топ-15 самых посещаемых урлов."
   ]
  },
  {
   "cell_type": "code",
   "execution_count": 5,
   "metadata": {},
   "outputs": [
    {
     "data": {
      "text/plain": [
       "/images/NASA-logosmall.gif                 111388\n",
       "/images/KSC-logosmall.gif                   89639\n",
       "/images/MOSAIC-logosmall.gif                60468\n",
       "/images/USA-logosmall.gif                   60014\n",
       "/images/WORLD-logosmall.gif                 59489\n",
       "/images/ksclogo-medium.gif                  58802\n",
       "/images/launch-logo.gif                     40871\n",
       "/shuttle/countdown/                         40279\n",
       "/ksc.html                                   40231\n",
       "/images/ksclogosmall.gif                    33585\n",
       "/                                           32910\n",
       "/history/apollo/images/apollo-logo1.gif     31072\n",
       "/shuttle/missions/missions.html             24865\n",
       "/htbin/cdt_main.pl                          22626\n",
       "/shuttle/countdown/count.gif                22216\n",
       "Name: Request, dtype: int64"
      ]
     },
     "execution_count": 5,
     "metadata": {},
     "output_type": "execute_result"
    }
   ],
   "source": [
    "url_count.head(15)"
   ]
  },
  {
   "cell_type": "markdown",
   "metadata": {},
   "source": [
    "Посчитаем число запросов для каждой уникальной секунды и затем посчитаем среднее этих значений."
   ]
  },
  {
   "cell_type": "code",
   "execution_count": 6,
   "metadata": {},
   "outputs": [
    {
     "name": "stdout",
     "output_type": "stream",
     "text": [
      "13/Jul/1995:13:32:58    20\n",
      "13/Jul/1995:13:32:59    18\n",
      "13/Jul/1995:09:42:19    18\n",
      "13/Jul/1995:09:42:20    17\n",
      "13/Jul/1995:09:49:30    16\n",
      "13/Jul/1995:08:35:02    16\n",
      "11/Jul/1995:14:47:44    16\n",
      "05/Jul/1995:16:29:15    15\n",
      "12/Jul/1995:13:39:35    15\n",
      "13/Jul/1995:09:34:06    15\n",
      "13/Jul/1995:08:56:34    15\n",
      "17/Jul/1995:14:20:57    15\n",
      "13/Jul/1995:09:27:16    15\n",
      "13/Jul/1995:10:41:32    14\n",
      "12/Jul/1995:13:34:59    14\n",
      "13/Jul/1995:09:05:34    14\n",
      "24/Jul/1995:13:03:50    14\n",
      "13/Jul/1995:13:28:16    14\n",
      "14/Jul/1995:10:38:14    14\n",
      "13/Jul/1995:09:40:57    14\n",
      "13/Jul/1995:09:51:04    14\n",
      "05/Jul/1995:11:41:10    14\n",
      "13/Jul/1995:09:51:31    14\n",
      "13/Jul/1995:09:34:52    14\n",
      "13/Jul/1995:09:38:22    14\n",
      "28/Jul/1995:08:20:38    13\n",
      "10/Jul/1995:13:16:06    13\n",
      "07/Jul/1995:12:59:49    13\n",
      "06/Jul/1995:16:03:11    13\n",
      "12/Jul/1995:11:08:07    13\n",
      "                        ..\n",
      "22/Jul/1995:01:25:28     1\n",
      "07/Jul/1995:13:17:52     1\n",
      "02/Jul/1995:03:09:49     1\n",
      "10/Jul/1995:15:42:00     1\n",
      "14/Jul/1995:18:04:35     1\n",
      "16/Jul/1995:05:17:31     1\n",
      "03/Jul/1995:12:46:31     1\n",
      "27/Jul/1995:00:58:19     1\n",
      "10/Jul/1995:09:16:14     1\n",
      "26/Jul/1995:18:15:04     1\n",
      "12/Jul/1995:22:06:01     1\n",
      "26/Jul/1995:07:37:15     1\n",
      "06/Jul/1995:13:49:58     1\n",
      "06/Jul/1995:01:57:47     1\n",
      "03/Jul/1995:05:26:49     1\n",
      "11/Jul/1995:09:17:09     1\n",
      "26/Jul/1995:03:07:40     1\n",
      "05/Jul/1995:21:38:58     1\n",
      "18/Jul/1995:14:33:44     1\n",
      "06/Jul/1995:06:44:17     1\n",
      "13/Jul/1995:19:34:43     1\n",
      "06/Jul/1995:17:28:40     1\n",
      "03/Jul/1995:11:44:13     1\n",
      "03/Jul/1995:03:27:06     1\n",
      "25/Jul/1995:17:02:53     1\n",
      "27/Jul/1995:00:41:25     1\n",
      "08/Jul/1995:10:10:06     1\n",
      "03/Jul/1995:09:41:24     1\n",
      "08/Jul/1995:22:09:58     1\n",
      "14/Jul/1995:02:08:45     1\n",
      "Name: Time, Length: 1099798, dtype: int64\n"
     ]
    }
   ],
   "source": [
    "time=df['Time'].value_counts()\n",
    "print(time)"
   ]
  },
  {
   "cell_type": "code",
   "execution_count": 7,
   "metadata": {},
   "outputs": [
    {
     "data": {
      "text/plain": [
       "1.720055864804264"
      ]
     },
     "execution_count": 7,
     "metadata": {},
     "output_type": "execute_result"
    }
   ],
   "source": [
    "time.mean()"
   ]
  },
  {
   "cell_type": "markdown",
   "metadata": {},
   "source": [
    "Для построения графика запросов в секунду записываем отдельно количество уникальных секунд и число обращений в каждую из них."
   ]
  },
  {
   "cell_type": "code",
   "execution_count": 10,
   "metadata": {
    "collapsed": true
   },
   "outputs": [],
   "source": [
    "time_count=df['Time'].value_counts(sort=False)\n",
    "second=[]\n",
    "for i in range(len(time_count)):\n",
    "    second.append(i)"
   ]
  },
  {
   "cell_type": "code",
   "execution_count": 11,
   "metadata": {},
   "outputs": [
    {
     "data": {
      "text/plain": [
       "[<matplotlib.lines.Line2D at 0x1c59f5e3198>]"
      ]
     },
     "execution_count": 11,
     "metadata": {},
     "output_type": "execute_result"
    },
    {
     "data": {
      "image/png": "[encoded data removed]",
      "text/plain": [
       "<Figure size 432x288 with 1 Axes>"
      ]
     },
     "metadata": {
      "needs_background": "light"
     },
     "output_type": "display_data"
    }
   ],
   "source": [
    "plt.plot(second,time_count)"
   ]
  },
  {
   "cell_type": "markdown",
   "metadata": {},
   "source": [
    "Для построения гистограммы распределения размеров запросов записываем все размеры запросов в список и строим гистограмму."
   ]
  },
  {
   "cell_type": "code",
   "execution_count": 20,
   "metadata": {
    "collapsed": true
   },
   "outputs": [],
   "source": [
    "byte_int=[]\n",
    "for index,row in df.iterrows():\n",
    "    if type(row['Byte'])==str:\n",
    "        if re.match('^[0-9 ]+$', row['Byte']):\n",
    "            byte_int.append(int(row['Byte']))"
   ]
  },
  {
   "cell_type": "code",
   "execution_count": 24,
   "metadata": {},
   "outputs": [
    {
     "data": {
      "text/plain": [
       "(array([1.754584e+06, 6.503300e+04, 2.083700e+04, 6.642000e+03,\n",
       "        6.154000e+03, 1.745000e+03, 5.090000e+02, 2.309000e+03,\n",
       "        9.360000e+02, 2.930000e+02, 1.785000e+03, 1.280000e+02,\n",
       "        1.042000e+03, 2.377000e+03, 4.890000e+02, 8.440000e+02,\n",
       "        1.253000e+03, 1.090000e+02, 4.270000e+02, 0.000000e+00,\n",
       "        1.000000e+00, 1.000000e+00, 1.000000e+00, 1.000000e+00,\n",
       "        4.000000e+00, 2.000000e+00, 0.000000e+00, 0.000000e+00,\n",
       "        4.000000e+00, 0.000000e+00, 1.000000e+00, 0.000000e+00,\n",
       "        0.000000e+00, 0.000000e+00, 0.000000e+00, 0.000000e+00,\n",
       "        0.000000e+00, 1.000000e+00, 1.000000e+00, 0.000000e+00,\n",
       "        1.000000e+00, 2.000000e+00, 1.000000e+00, 1.100000e+01,\n",
       "        0.000000e+00, 0.000000e+00, 3.000000e+00, 0.000000e+00,\n",
       "        0.000000e+00, 0.000000e+00, 0.000000e+00, 0.000000e+00,\n",
       "        0.000000e+00, 0.000000e+00, 0.000000e+00, 0.000000e+00,\n",
       "        0.000000e+00, 0.000000e+00, 0.000000e+00, 0.000000e+00,\n",
       "        0.000000e+00, 0.000000e+00, 0.000000e+00, 0.000000e+00,\n",
       "        0.000000e+00, 0.000000e+00, 0.000000e+00, 0.000000e+00,\n",
       "        0.000000e+00, 0.000000e+00, 0.000000e+00, 0.000000e+00,\n",
       "        0.000000e+00, 0.000000e+00, 0.000000e+00, 0.000000e+00,\n",
       "        0.000000e+00, 0.000000e+00, 0.000000e+00, 0.000000e+00,\n",
       "        0.000000e+00, 0.000000e+00, 0.000000e+00, 0.000000e+00,\n",
       "        0.000000e+00, 0.000000e+00, 0.000000e+00, 0.000000e+00,\n",
       "        0.000000e+00, 0.000000e+00, 0.000000e+00, 0.000000e+00,\n",
       "        0.000000e+00, 0.000000e+00, 0.000000e+00, 0.000000e+00,\n",
       "        0.000000e+00, 0.000000e+00, 0.000000e+00, 1.000000e+00]),\n",
       " array([      0.  ,   68239.36,  136478.72,  204718.08,  272957.44,\n",
       "         341196.8 ,  409436.16,  477675.52,  545914.88,  614154.24,\n",
       "         682393.6 ,  750632.96,  818872.32,  887111.68,  955351.04,\n",
       "        1023590.4 , 1091829.76, 1160069.12, 1228308.48, 1296547.84,\n",
       "        1364787.2 , 1433026.56, 1501265.92, 1569505.28, 1637744.64,\n",
       "        1705984.  , 1774223.36, 1842462.72, 1910702.08, 1978941.44,\n",
       "        2047180.8 , 2115420.16, 2183659.52, 2251898.88, 2320138.24,\n",
       "        2388377.6 , 2456616.96, 2524856.32, 2593095.68, 2661335.04,\n",
       "        2729574.4 , 2797813.76, 2866053.12, 2934292.48, 3002531.84,\n",
       "        3070771.2 , 3139010.56, 3207249.92, 3275489.28, 3343728.64,\n",
       "        3411968.  , 3480207.36, 3548446.72, 3616686.08, 3684925.44,\n",
       "        3753164.8 , 3821404.16, 3889643.52, 3957882.88, 4026122.24,\n",
       "        4094361.6 , 4162600.96, 4230840.32, 4299079.68, 4367319.04,\n",
       "        4435558.4 , 4503797.76, 4572037.12, 4640276.48, 4708515.84,\n",
       "        4776755.2 , 4844994.56, 4913233.92, 4981473.28, 5049712.64,\n",
       "        5117952.  , 5186191.36, 5254430.72, 5322670.08, 5390909.44,\n",
       "        5459148.8 , 5527388.16, 5595627.52, 5663866.88, 5732106.24,\n",
       "        5800345.6 , 5868584.96, 5936824.32, 6005063.68, 6073303.04,\n",
       "        6141542.4 , 6209781.76, 6278021.12, 6346260.48, 6414499.84,\n",
       "        6482739.2 , 6550978.56, 6619217.92, 6687457.28, 6755696.64,\n",
       "        6823936.  ]),\n",
       " <a list of 100 Patch objects>)"
      ]
     },
     "execution_count": 24,
     "metadata": {},
     "output_type": "execute_result"
    },
    {
     "data": {
      "image/png": "[encoded data removed]",
      "text/plain": [
       "<Figure size 432x288 with 1 Axes>"
      ]
     },
     "metadata": {
      "needs_background": "light"
     },
     "output_type": "display_data"
    }
   ],
   "source": [
    "plt.hist(byte_int, bins=100)"
   ]
  }
 ],
 "metadata": {
  "kernelspec": {
   "display_name": "Python 3",
   "language": "python",
   "name": "python3"
  },
  "language_info": {
   "codemirror_mode": {
    "name": "ipython",
    "version": 3
   },
   "file_extension": ".py",
   "mimetype": "text/x-python",
   "name": "python",
   "nbconvert_exporter": "python",
   "pygments_lexer": "ipython3",
   "version": "3.6.3"
  }
 },
 "nbformat": 4,
 "nbformat_minor": 2
}
