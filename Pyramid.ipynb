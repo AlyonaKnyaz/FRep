{
 "cells": [
  {
   "cell_type": "code",
   "execution_count": 9,
   "metadata": {},
   "outputs": [
    {
     "name": "stdout",
     "output_type": "stream",
     "text": [
      "[0, 1]\n",
      "[0, 2]\n",
      "[0, 3]\n",
      "[0, 4]\n",
      "[1, 2]\n",
      "[1, 4]\n",
      "[1, 5]\n",
      "[2, 3]\n",
      "[2, 5]\n",
      "[3, 4]\n",
      "[3, 5]\n",
      "[4, 5]\n"
     ]
    }
   ],
   "source": [
    "import math\n",
    "import numpy as np\n",
    "from tkinter import Tk, Canvas, PhotoImage, mainloop\n",
    "WIDTH, HEIGHT = 640, 480\n",
    "a=200 #сторона \n",
    "Pnts=[[0,0,1],[0,1,0],[1,0,0],[0,-1,0],[-1,0,0],[0,0,-1]]\n",
    "Ribs=[[0,1],[0,2],[0,3],[0,4],[1,2],[1,4],[1,5],[2,3],[2,5],[3,4],[3,5],[4,5]]\n",
    "\n",
    "\n",
    "xe=[]\n",
    "ye=[]\n",
    "ze=[]\n",
    "x=[]\n",
    "y=[]\n",
    "tetta=math.pi/2.5\n",
    "fi=math.pi/14\n",
    "ro=200\n",
    "V=[[-math.sin(tetta),-math.cos(fi)*math.cos(tetta),-math.sin(fi)*math.cos(tetta),0],\n",
    "   [math.cos(tetta), -math.cos(fi)*math.sin(tetta),-math.sin(fi)*math.sin(tetta),0],\n",
    "   [0              , math.sin(fi),                 -math.cos(fi),                0],\n",
    "   [0              , 0,                             ro,                          1]]\n",
    "for i in range(6):\n",
    "    Pnts[i].append(1)\n",
    "    A=np.dot(Pnts[i],V)\n",
    "    xe.append(A[0])\n",
    "    ye.append(A[1])\n",
    "    ze.append(A[2])\n",
    "    \n",
    "for i in range(6):\n",
    "    x.append(xe[i]*ro/(2*ze[i]))\n",
    "    y.append(ye[i]*ro/(2*ze[i]))\n",
    "    \n",
    "window = Tk()\n",
    "canvas = Canvas(window, width=WIDTH, height=HEIGHT, bg=\"#ffffff\")\n",
    "canvas.pack()\n",
    "img = PhotoImage(width=WIDTH, height=HEIGHT)\n",
    "canvas.create_image((WIDTH/2, HEIGHT/2), image=img, state=\"normal\")\n",
    "for j in Ribs:\n",
    "    print(j)\n",
    "    canvas.create_line(a*x[j[0]]+200,a*y[j[0]]+200,a*x[j[1]]+200,a*y[j[1]]+200)\n",
    "mainloop()"
   ]
  },
  {
   "cell_type": "code",
   "execution_count": null,
   "metadata": {
    "collapsed": true
   },
   "outputs": [],
   "source": []
  }
 ],
 "metadata": {
  "kernelspec": {
   "display_name": "Python 3",
   "language": "python",
   "name": "python3"
  },
  "language_info": {
   "codemirror_mode": {
    "name": "ipython",
    "version": 3
   },
   "file_extension": ".py",
   "mimetype": "text/x-python",
   "name": "python",
   "nbconvert_exporter": "python",
   "pygments_lexer": "ipython3",
   "version": "3.6.3"
  }
 },
 "nbformat": 4,
 "nbformat_minor": 2
}
