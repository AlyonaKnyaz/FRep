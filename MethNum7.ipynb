{
 "cells": [
  {
   "cell_type": "code",
   "execution_count": 26,
   "metadata": {},
   "outputs": [
    {
     "name": "stdout",
     "output_type": "stream",
     "text": [
      "\n",
      "1.00000  0.00000  0.00000  0.00000  \n",
      "-50.00000  1.00000  0.00000  0.00000  \n",
      "-9.00000  0.00000  1.00000  0.00000  \n",
      "3.00000  0.00000  121.62500  1.00000  \n",
      "\n",
      "3.00000  4.00000  -9.00000  5.00000  \n",
      "0.00000  199.88000  4550.00000  234.00000  \n",
      "0.00000  0.00000  -8.00000  53.00000  \n",
      "0.00000  0.00000  0.00000  -6461.14100  \n"
     ]
    }
   ],
   "source": [
    "A=[[3,4,-9,5],\n",
    "   [-150,-0.12,5000,-16],\n",
    "   [-2700,-36,73,8],\n",
    "   [9,12,-1000,-0.016]\n",
    "    ]\n",
    "L=[]\n",
    "U=[]\n",
    "n=len(A)\n",
    "for i in range(0,n):\n",
    "    L.append([])\n",
    "    for j in range(0,n):\n",
    "        L[i].append(0)\n",
    "    \n",
    "for i in range(0,n):\n",
    "    U.append([])\n",
    "    for j in range(0,n):\n",
    "        U[i].append(A[i][j])\n",
    "        \n",
    "for i in range(0,n):\n",
    "    for j in range(i,n):\n",
    "        L[j][i]=U[j][i]/U[i][i]\n",
    "\n",
    "\n",
    "for k in range(1,n):\n",
    "    for i in range(k-1,n):\n",
    "        for j in range(i,n):\n",
    "            L[j][i]=U[j][i]/U[i][i]\n",
    "\n",
    "    for i in range(k,n): \n",
    "        for j in range(k-1,n): \n",
    "            U[i][j]=U[i][j]-L[i][k-1]*U[k-1][j]\n",
    "            \n",
    "for i in range(0,n):\n",
    "    print()\n",
    "    for j in range(0,n):\n",
    "        print(\"%.5f\" %L[i][j],end='  ')\n",
    "        \n",
    "print()        \n",
    "for i in range(0,n):\n",
    "    print()\n",
    "    for j in range(0,n):\n",
    "        print(\"%.5f\" %U[i][j],end='  ')\n",
    "print()"
   ]
  },
  {
   "cell_type": "code",
   "execution_count": 28,
   "metadata": {},
   "outputs": [
    {
     "name": "stdout",
     "output_type": "stream",
     "text": [
      "[-14.0, -656.0, 16.0, -1980.0]\n",
      "[0.6845806871893872, -4.328512914260135, 0.030214168054837565, 0.306447421593183]\n",
      "0.00000000000000000000000000000000000000000000000000  0.00000000000002131628207280300557613372802734375000  0.00000000000002842170943040400743484497070312500000  -0.00000000000019895196601282805204391479492187500000  "
     ]
    }
   ],
   "source": [
    "b=[-14,44,142,-76]\n",
    "ysum=0\n",
    "y=[]\n",
    "for i in range(0,n):\n",
    "    y.append(0)\n",
    "xsum=0    \n",
    "x=[]\n",
    "for i in range(0,n):\n",
    "    x.append(0)\n",
    "    \n",
    "for i in range(0,n):\n",
    "    for j in range(0,i):\n",
    "        ysum+=y[j]*L[i][j]\n",
    "    y[i]=(b[i]-ysum)/L[i][i]\n",
    "    ysum=0\n",
    "    \n",
    "for i in range(n-1,-1,-1):\n",
    "    for j in range(n-1,i,-1):\n",
    "        xsum+=x[j]*U[i][j]\n",
    "    x[i]=(y[i]-xsum)/U[i][i]\n",
    "    xsum=0\n",
    "    \n",
    "print(y)\n",
    "print(x)\n",
    "import numpy as np\n",
    "F=np.dot(A,x)-b\n",
    "for i in range(0,len(F)):\n",
    "    print(\"%.50f\" %F[i],end='  ')"
   ]
  },
  {
   "cell_type": "code",
   "execution_count": null,
   "metadata": {
    "collapsed": true
   },
   "outputs": [],
   "source": []
  }
 ],
 "metadata": {
  "kernelspec": {
   "display_name": "Python 3",
   "language": "python",
   "name": "python3"
  },
  "language_info": {
   "codemirror_mode": {
    "name": "ipython",
    "version": 3
   },
   "file_extension": ".py",
   "mimetype": "text/x-python",
   "name": "python",
   "nbconvert_exporter": "python",
   "pygments_lexer": "ipython3",
   "version": "3.6.3"
  }
 },
 "nbformat": 4,
 "nbformat_minor": 2
}
