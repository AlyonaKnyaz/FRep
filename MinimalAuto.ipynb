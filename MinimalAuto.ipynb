{
 "cells": [
  {
   "cell_type": "code",
   "execution_count": 28,
   "metadata": {},
   "outputs": [
    {
     "name": "stdout",
     "output_type": "stream",
     "text": [
      "[[0, 1, 1], [1, 1, 2], [2, 1, 2]]\n"
     ]
    }
   ],
   "source": [
    "T=[[0,1,3],[1,1,2],[2,3,4],[3,3,4],[4,1,2],[5,2,6],[6,5,4]]\n",
    "F=[2,4]\n",
    "D=[0]\n",
    "for i in D:\n",
    "    if T[i][1] not in D:\n",
    "        D.append(T[i][1])\n",
    "    if T[i][2] not in D:\n",
    "        D.append(T[i][2])\n",
    "\n",
    "R=[[],[]]\n",
    "for i in D:\n",
    "    if i in F:\n",
    "        R[1].append(i)\n",
    "    else:\n",
    "        R[0].append(i)\n",
    "        \n",
    "\n",
    "        \n",
    "T1=[]\n",
    "for i in D:\n",
    "    T1.append([i])\n",
    "j=0\n",
    "for i in D:\n",
    "    if T[i][1] in R[0]:\n",
    "        T1[j].append(0)\n",
    "    else:\n",
    "        T1[j].append(1)\n",
    "        \n",
    "    if T[i][2] in R[0]:\n",
    "        T1[j].append(0)\n",
    "    else:\n",
    "        T1[j].append(1)\n",
    "    \n",
    "    j+=1\n",
    "    \n",
    "s1=[]\n",
    "s2=[]\n",
    "for i in range(0,len(R[0])):\n",
    "    for j in range(i+1,len(R[0])):\n",
    "        if T1[i][1]!=T1[j][1] or T1[i][2]!=T1[j][2]:\n",
    "            if R[0][i] not in s1:\n",
    "                s1.append(R[0][i])\n",
    "            \n",
    "for i in range(len(R[0])-1,len(R[1])+len(R[0])-1):\n",
    "    for j in range(i+1,len(R[1])):\n",
    "        if T1[i][1]!=T1[j][1] or T1[i][2]!=T1[j][2]:\n",
    "            if R[1][i] not in s2:\n",
    "                s2.append(R[1][i])\n",
    "            \n",
    "for i in s1:\n",
    "    R[0].remove(i)\n",
    "    R.insert(0,[i])\n",
    "    \n",
    "for i in s2:\n",
    "    R[2].remove(i)\n",
    "    R.insert(0,[i])\n",
    "T2=[]  \n",
    "for i in D:\n",
    "    T2.append([i])\n",
    "j=0\n",
    "for i in D:\n",
    "    if T[i][1] in R[0]:\n",
    "        T2[j].append(0)\n",
    "    elif T[i][1] in R[1]:\n",
    "        T2[j].append(1)\n",
    "    else:\n",
    "        T2[j].append(2)\n",
    "        \n",
    "    if T[i][2] in R[0]:\n",
    "        T2[j].append(0)\n",
    "    elif T[i][2] in R[1]:\n",
    "        T2[j].append(1)\n",
    "    else:\n",
    "        T2[j].append(2)\n",
    "    \n",
    "    j+=1\n",
    "\n",
    "T3=[]\n",
    "j=0\n",
    "for k in range(0,len(R)):\n",
    "    for i in range(0,len(T2)):\n",
    "        if R[k][0]==T2[i][0]:\n",
    "            T3.append([j,T2[i][1],T2[i][2]])\n",
    "    j+=1\n",
    "print(T3)\n",
    "    \n",
    "        "
   ]
  },
  {
   "cell_type": "code",
   "execution_count": null,
   "metadata": {
    "collapsed": true
   },
   "outputs": [],
   "source": []
  }
 ],
 "metadata": {
  "kernelspec": {
   "display_name": "Python 3",
   "language": "python",
   "name": "python3"
  },
  "language_info": {
   "codemirror_mode": {
    "name": "ipython",
    "version": 3
   },
   "file_extension": ".py",
   "mimetype": "text/x-python",
   "name": "python",
   "nbconvert_exporter": "python",
   "pygments_lexer": "ipython3",
   "version": "3.6.3"
  }
 },
 "nbformat": 4,
 "nbformat_minor": 2
}
