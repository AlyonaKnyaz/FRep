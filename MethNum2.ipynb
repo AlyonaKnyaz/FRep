{
 "cells": [
  {
   "cell_type": "code",
   "execution_count": 162,
   "metadata": {},
   "outputs": [
    {
     "name": "stdout",
     "output_type": "stream",
     "text": [
      "[0, 0.3141592653589793, 0.6283185307179586, 0.9424777960769379, 1.2566370614359172, 1.5707963267948966, 1.8849555921538759, 2.199114857512855, 2.5132741228718345, 2.827433388230814, 3.141592653589793]\n"
     ]
    }
   ],
   "source": [
    "import math\n",
    "import scipy.special as ss\n",
    "N=10\n",
    "a=0\n",
    "b=math.pi\n",
    "l=[a]\n",
    "\n",
    "for i in range(1,N+1):\n",
    "    l.append(l[i-1]+(b-a)/N)\n",
    "print(l)"
   ]
  },
  {
   "cell_type": "code",
   "execution_count": 163,
   "metadata": {},
   "outputs": [
    {
     "name": "stdout",
     "output_type": "stream",
     "text": [
      "[0.0, 0.0024317847982419623, 0.0012791221479862796, 0.002378035165901179, 0.016705235415757795, 0.01793333416694434, 0.013640946113805185, 0.0040822570622478, 0.0038359399198422866, 0.003367031330647415, 6.783016515456898e-35]\n"
     ]
    }
   ],
   "source": [
    "zn=[]\n",
    "for i in l:\n",
    "    e=math.pow((math.sin(i*math.cos(2*i)))/(math.pow(i,2)+5),2)\n",
    "    zn.append(e)\n",
    "print(zn)"
   ]
  },
  {
   "cell_type": "code",
   "execution_count": 140,
   "metadata": {},
   "outputs": [
    {
     "name": "stdout",
     "output_type": "stream",
     "text": [
      "0.0\n"
     ]
    }
   ],
   "source": [
    "def func(x):\n",
    "    fn=math.pow((math.sin(x*math.cos(2*x)))/(math.pow(x,2)+5),2)\n",
    "    return(fn)\n",
    "\n",
    "def A(i,sx,sy):\n",
    "    Ai=0\n",
    "    wj=1\n",
    "    for k in range(0,i+1):\n",
    "        for j in range(0,i+1):\n",
    "            if j!=k:\n",
    "                wj*=(sx[k]-sx[j])\n",
    "                \n",
    "        Ai+=sy[k]/wj\n",
    "        wj=1\n",
    "    return(Ai)\n",
    "        \n",
    "def P(x,sx,sy,num):\n",
    "    px=0\n",
    "    p=1\n",
    "    for i in range(1,num+1):\n",
    "        for j in range(0,i):\n",
    "            p*=(x-sx[j])\n",
    "        px+=A(i,sx,sy)*p\n",
    "        p=1\n",
    "    return(px)\n",
    "\n",
    "def Razn(k,x):\n",
    "    a=0\n",
    "    if x%1==0:\n",
    "        a+=ss.gamma(k+1)/((ss.gamma(k-x+1))*(ss.gamma(x+1)))\n",
    "    else:\n",
    "        a+=ss.gamma(k+1)/((ss.gamma(k-x+1))*(ss.gamma(x+1)))\n",
    "    return(a)\n",
    "        \n",
    "def Pn(x,sy,num):\n",
    "    L=0\n",
    "    K=0\n",
    "    for i in range(0,num):\n",
    "        for k in range(0,i+1):\n",
    "            if k>i:\n",
    "                L+=math.pow((-1),(i-k))*C(k,i)*sy[k]\n",
    "        if i>x:\n",
    "            K+=C(i,x)*L\n",
    "        L=0\n",
    "    return(K)\n"
   ]
  },
  {
   "cell_type": "code",
   "execution_count": 161,
   "metadata": {},
   "outputs": [
    {
     "name": "stdout",
     "output_type": "stream",
     "text": [
      "0.005500500294696925\n"
     ]
    }
   ],
   "source": [
    "def Pnx(x,sx,sy,n):\n",
    "    D=1\n",
    "    P=sy[0]\n",
    "    sy1=sy\n",
    "    for j in range(1,n+1):\n",
    "        for i in range(0,n-j+1):\n",
    "            sy1[i]=(sy1[i+1]-sy1[i])/(sx[i+j]-sx[i])\n",
    "        D=D*(x-sx[j-1])\n",
    "        P=P+sy1[0]*D\n",
    "    return(P)      "
   ]
  },
  {
   "cell_type": "code",
   "execution_count": 164,
   "metadata": {},
   "outputs": [
    {
     "name": "stdout",
     "output_type": "stream",
     "text": [
      "[0, 0.07853981633974483, 0.15707963267948966, 0.23561944901923448, 0.3141592653589793, 0.39269908169872414, 0.47123889803846897, 0.5497787143782138, 0.6283185307179586, 0.7068583470577035, 0.7853981633974483, 0.8639379797371931, 0.9424777960769379, 1.0210176124166828, 1.0995574287564276, 1.1780972450961724, 1.2566370614359172, 1.335176877775662, 1.413716694115407, 1.4922565104551517, 1.5707963267948966, 1.6493361431346414, 1.7278759594743862, 1.806415775814131, 1.8849555921538759, 1.9634954084936207, 2.0420352248333655, 2.1205750411731104, 2.199114857512855, 2.2776546738526, 2.356194490192345, 2.4347343065320897, 2.5132741228718345, 2.5918139392115793, 2.670353755551324, 2.748893571891069, 2.827433388230814, 2.9059732045705586, 2.9845130209103035, 3.0630528372500483, 3.141592653589793]\n"
     ]
    }
   ],
   "source": [
    "M=40\n",
    "a=0\n",
    "b=math.pi\n",
    "l1=[a]\n",
    "\n",
    "for i in range(1,M+1):\n",
    "    l1.append(l1[i-1]+(b-a)/M)\n",
    "print(l1)"
   ]
  },
  {
   "cell_type": "code",
   "execution_count": 165,
   "metadata": {},
   "outputs": [
    {
     "name": "stdout",
     "output_type": "stream",
     "text": [
      "[0.0, 0.00023962790219038654, 0.0008774116087883317, 0.0016992731046175907, 0.0024317847982419623, 0.0028286161446734685, 0.0027422037576116465, 0.002170254278805519, 0.0012791221479862796, 0.00040261408244029914, 7.330874424221367e-35, 0.0005497866532125075, 0.002378035165901179, 0.005475195625016451, 0.009407878094526888, 0.013419054130443786, 0.016705235415757795, 0.018729019768496696, 0.01938878064679534, 0.018967894234540723, 0.01793333416694434, 0.016720796227013907, 0.015599269947409273, 0.014623735331470213, 0.013640946113805185, 0.012332839328578734, 0.010333137537967246, 0.007469003423798665, 0.0040822570622478, 0.0011722784688422926, 1.6826180197844936e-33, 0.0011571484231888952, 0.0038359399198422866, 0.00620929458046734, 0.006795497582898008, 0.005500500282108663, 0.003367031330647415, 0.0015230197370959134, 0.0004607754477798957, 6.503998991908434e-05, 6.783016515456898e-35]\n"
     ]
    }
   ],
   "source": [
    "zn1=[]\n",
    "for i in l1:\n",
    "    e=math.pow((math.sin(i*math.cos(2*i)))/(math.pow(i,2)+5),2)\n",
    "    zn1.append(e)\n",
    "print(zn1)\n"
   ]
  },
  {
   "cell_type": "code",
   "execution_count": 166,
   "metadata": {
    "collapsed": true
   },
   "outputs": [],
   "source": [
    "def L(x,num,list1,list2):\n",
    "    Lag=0\n",
    "    L1=1\n",
    "    for i in range(0,num+1):\n",
    "        for j in range(0,num+1):\n",
    "            if i != j:\n",
    "                L1 *= x-list1[j]\n",
    "                L1 /= list1[i] - list1[j]\n",
    "        Lag += list2[i]*L1\n",
    "        L1=1\n",
    "    return Lag  \n"
   ]
  },
  {
   "cell_type": "code",
   "execution_count": 168,
   "metadata": {
    "scrolled": true
   },
   "outputs": [
    {
     "name": "stdout",
     "output_type": "stream",
     "text": [
      "0   nan   nan   nan   nan\n",
      "0.07853981633974483   nan   nan   nan   nan\n",
      "0.15707963267948966   nan   nan   nan   nan\n",
      "0.23561944901923448   nan   nan   nan   nan\n",
      "0.3141592653589793   nan   nan   nan   nan\n",
      "0.39269908169872414   nan   nan   nan   nan\n",
      "0.47123889803846897   nan   nan   nan   nan\n",
      "0.5497787143782138   nan   nan   nan   nan\n",
      "0.6283185307179586   nan   nan   nan   nan\n",
      "0.7068583470577035   nan   nan   nan   nan\n",
      "0.7853981633974483   nan   nan   nan   nan\n",
      "0.8639379797371931   nan   nan   nan   nan\n",
      "0.9424777960769379   nan   nan   nan   nan\n",
      "1.0210176124166828   nan   nan   nan   nan\n",
      "1.0995574287564276   nan   nan   nan   nan\n",
      "1.1780972450961724   nan   nan   nan   nan\n",
      "1.2566370614359172   nan   nan   nan   nan\n",
      "1.335176877775662   nan   nan   nan   nan\n",
      "1.413716694115407   nan   nan   nan   nan\n",
      "1.4922565104551517   nan   nan   nan   nan\n",
      "1.5707963267948966   nan   nan   nan   nan\n",
      "1.6493361431346414   nan   nan   nan   nan\n",
      "1.7278759594743862   nan   nan   nan   nan\n",
      "1.806415775814131   nan   nan   nan   nan\n",
      "1.8849555921538759   nan   nan   nan   nan\n",
      "1.9634954084936207   nan   nan   nan   nan\n",
      "2.0420352248333655   nan   nan   nan   nan\n",
      "2.1205750411731104   nan   nan   nan   nan\n",
      "2.199114857512855   nan   nan   nan   nan\n",
      "2.2776546738526   nan   nan   nan   nan\n",
      "2.356194490192345   nan   nan   nan   nan\n",
      "2.4347343065320897   nan   nan   nan   nan\n",
      "2.5132741228718345   nan   nan   nan   nan\n",
      "2.5918139392115793   nan   nan   nan   nan\n",
      "2.670353755551324   nan   nan   nan   nan\n",
      "2.748893571891069   nan   nan   nan   nan\n",
      "2.827433388230814   nan   nan   nan   nan\n",
      "2.9059732045705586   inf   nan   nan   nan\n",
      "2.9845130209103035   1.3516978041606024e+298   nan   nan   nan\n",
      "3.0630528372500483   3.970081723015097e+172   nan   nan   nan\n",
      "3.141592653589793   6.783016515456898e-35   nan   nan   nan\n"
     ]
    }
   ],
   "source": [
    "for t in range(0,M+1):\n",
    "    print(l1[t],' ',zn1[t],' ',L(l1[t],M,l1,zn1),' ',Pnx(l1[t],l1,zn1,M),' ',Pnx(l1[t],l1,zn1,M)-L(l1[t],M,l1,zn1))\n"
   ]
  },
  {
   "cell_type": "code",
   "execution_count": null,
   "metadata": {
    "collapsed": true
   },
   "outputs": [],
   "source": []
  },
  {
   "cell_type": "code",
   "execution_count": null,
   "metadata": {
    "collapsed": true
   },
   "outputs": [],
   "source": []
  },
  {
   "cell_type": "code",
   "execution_count": null,
   "metadata": {
    "collapsed": true
   },
   "outputs": [],
   "source": []
  },
  {
   "cell_type": "code",
   "execution_count": null,
   "metadata": {
    "collapsed": true
   },
   "outputs": [],
   "source": []
  }
 ],
 "metadata": {
  "kernelspec": {
   "display_name": "Python 3",
   "language": "python",
   "name": "python3"
  },
  "language_info": {
   "codemirror_mode": {
    "name": "ipython",
    "version": 3
   },
   "file_extension": ".py",
   "mimetype": "text/x-python",
   "name": "python",
   "nbconvert_exporter": "python",
   "pygments_lexer": "ipython3",
   "version": "3.6.3"
  }
 },
 "nbformat": 4,
 "nbformat_minor": 2
}
