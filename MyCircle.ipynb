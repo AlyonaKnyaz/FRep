{
 "cells": [
  {
   "cell_type": "code",
   "execution_count": 2,
   "metadata": {
    "collapsed": true
   },
   "outputs": [],
   "source": [
    "from tkinter import Tk, Canvas, PhotoImage, mainloop\n",
    "import math\n",
    "\n",
    "WIDTH, HEIGHT = 640, 480\n",
    "\n",
    "window = Tk()\n",
    "canvas = Canvas(window, width=WIDTH, height=HEIGHT, bg=\"#ffffff\")\n",
    "canvas.pack()\n",
    "img = PhotoImage(width=WIDTH, height=HEIGHT)\n",
    "canvas.create_image((WIDTH/2, HEIGHT/2), image=img, state=\"normal\")\n",
    "def MyCircle(x0,y0,r):\n",
    "    x=x0\n",
    "    y=y0-r\n",
    "    img.put(\"#000000\",(x,y))\n",
    "    img.put(\"#000000\",(y,x))\n",
    "    img.put(\"#000000\",(x0+y0-y,x))\n",
    "    img.put(\"#000000\",(x0-y0+y,x0+y0-x))\n",
    "    while y!=y0:\n",
    "        dh=math.pow(x-x0+1,2)+math.pow(y-y0,2)-math.pow(r,2)\n",
    "        dv=math.pow(x-x0,2)+math.pow(y-y0+1,2)-math.pow(r,2)\n",
    "        dd=math.pow(x-x0+1,2)+math.pow(y-y0+1,2)-math.pow(r,2)\n",
    "        if dd<0:\n",
    "            if math.fabs(dh)<math.fabs(dd):\n",
    "                x+=1\n",
    "            if math.fabs(dh)>math.fabs(dd):\n",
    "                x+=1\n",
    "                y+=1\n",
    "        elif dd>0:\n",
    "            if math.fabs(dv)<math.fabs(dd):\n",
    "                y+=1\n",
    "            if math.fabs(dv)>math.fabs(dd):\n",
    "                x+=1\n",
    "                y+=1\n",
    "        else:\n",
    "            x+=1\n",
    "            y+=1\n",
    "\n",
    "        img.put(\"#000000\",(x,y))\n",
    "        img.put(\"#000000\",(y,x))\n",
    "        img.put(\"#000000\",(x0+y0-y,x))\n",
    "        img.put(\"#000000\",(x0-y0+y,x0+y0-x))\n",
    "        \n",
    "MyCircle(200,200,100)\n",
    "\n",
    "mainloop()        \n",
    "        "
   ]
  },
  {
   "cell_type": "code",
   "execution_count": null,
   "metadata": {
    "collapsed": true
   },
   "outputs": [],
   "source": []
  }
 ],
 "metadata": {
  "kernelspec": {
   "display_name": "Python 3",
   "language": "python",
   "name": "python3"
  },
  "language_info": {
   "codemirror_mode": {
    "name": "ipython",
    "version": 3
   },
   "file_extension": ".py",
   "mimetype": "text/x-python",
   "name": "python",
   "nbconvert_exporter": "python",
   "pygments_lexer": "ipython3",
   "version": "3.6.3"
  }
 },
 "nbformat": 4,
 "nbformat_minor": 2
}
