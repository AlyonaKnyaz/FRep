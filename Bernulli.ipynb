{
 "cells": [
  {
   "cell_type": "code",
   "execution_count": null,
   "metadata": {
    "collapsed": true
   },
   "outputs": [],
   "source": []
  },
  {
   "cell_type": "code",
   "execution_count": 33,
   "metadata": {},
   "outputs": [
    {
     "name": "stdout",
     "output_type": "stream",
     "text": [
      "0.356\n",
      "91 256\n",
      "0\n"
     ]
    }
   ],
   "source": [
    "import math\n",
    "import random\n",
    "p=float(input())\n",
    "pn=int(p*math.pow(10,len(str(p))-2))\n",
    "pm=int(math.pow(10,len(str(p))-2))\n",
    "\n",
    "def reduce_fraction(n,m):\n",
    "    k = math.gcd(n,m)\n",
    "    return (n//k, m//k)\n",
    "\n",
    "t1=int(reduce_fraction(pn,pm)[0])\n",
    "t2=int(reduce_fraction(pn,pm)[1])\n",
    "\n",
    "f=0\n",
    "sig=[]\n",
    "for i in range(1,15):\n",
    "    if t2==int(math.pow(2,i)):\n",
    "        f=1\n",
    "    sig.append(math.fabs(t2-math.pow(2,i)))\n",
    "    \n",
    "if f==0:\n",
    "    min=100\n",
    "    for g in range(len(sig)):\n",
    "        if sig[g]<min:\n",
    "            min=sig[g]\n",
    "            sg=g\n",
    "    t2=int(math.pow(2,sg+1))\n",
    "    min1=100\n",
    "    for i in range(0,t2):\n",
    "        if math.fabs(i/t2-p) < min:\n",
    "            min=math.fabs(i/t2-p)\n",
    "            t1=i\n",
    "        \n",
    "print(t1,t2)\n",
    "\n",
    "c=[]        \n",
    "for j in range(t1):\n",
    "    c.append(random.randrange(0, 2, 1))\n",
    "        \n",
    "nom=0\n",
    "two=1\n",
    "c.reverse()\n",
    "\n",
    "for g in c:\n",
    "    nom+=g*two\n",
    "    two*=2\n",
    "    \n",
    "if t1<t2/2:\n",
    "    if nom<t1:\n",
    "        x=1\n",
    "    else:\n",
    "        x=0\n",
    "else:\n",
    "    if nom<t1:\n",
    "        x=0\n",
    "    else:\n",
    "        x=1\n",
    "print(x)\n",
    "\n"
   ]
  },
  {
   "cell_type": "code",
   "execution_count": null,
   "metadata": {
    "collapsed": true
   },
   "outputs": [],
   "source": []
  },
  {
   "cell_type": "code",
   "execution_count": null,
   "metadata": {
    "collapsed": true
   },
   "outputs": [],
   "source": []
  }
 ],
 "metadata": {
  "kernelspec": {
   "display_name": "Python 3",
   "language": "python",
   "name": "python3"
  },
  "language_info": {
   "codemirror_mode": {
    "name": "ipython",
    "version": 3
   },
   "file_extension": ".py",
   "mimetype": "text/x-python",
   "name": "python",
   "nbconvert_exporter": "python",
   "pygments_lexer": "ipython3",
   "version": "3.6.3"
  }
 },
 "nbformat": 4,
 "nbformat_minor": 2
}
