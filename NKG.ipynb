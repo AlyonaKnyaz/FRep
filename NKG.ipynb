{
 "cells": [
  {
   "cell_type": "code",
   "execution_count": 32,
   "metadata": {},
   "outputs": [
    {
     "name": "stdout",
     "output_type": "stream",
     "text": [
      "Q     a       b       \n",
      "S    ['B', 'A']   []       \n",
      "B    ['N']    ['B']    \n",
      "A    ['A']    ['N']    \n",
      "N    []       []       \n"
     ]
    }
   ],
   "source": [
    "Vt=['a','b','c','d','e','f','g','h','i','j','k','l','m','n','o','p','q','r','s','t','u','v','w','x','y','z']\n",
    "Vn=['A','B','C','D','E','F','G','H','I','J','K','L','M','N','O','P','Q','R','S','O','U','V','W','X','Y','Z']\n",
    "\n",
    "P1=[['S','aS'],['S','bS'],['S','bA'],['A','a']]\n",
    "\n",
    "P2=[['S','aB'],['S','aA'],['B','bB'],['B','a'],['A','aA'],['A','b']]\n",
    "\n",
    "def NKG(P):\n",
    "    for i in P:\n",
    "        if len(i[1])==1:\n",
    "            c=0\n",
    "            for j in P:\n",
    "                if j[0]==i[0] and j[1][0]==i[1] and len(j[1])==2:\n",
    "                    c+=1\n",
    "            if c==0:\n",
    "                P.append([i[0],i[1]+'N'])\n",
    "    \n",
    "    List=[]\n",
    "    List1=[]\n",
    "    Q=[]\n",
    "    for j in P:\n",
    "        if j[1][0] not in Q:\n",
    "            Q.append(j[1][0])\n",
    "    \n",
    "    for i in P:\n",
    "        if i[0] not in List1:\n",
    "            List1.append(i[0])\n",
    "        if len(i[1])==2:\n",
    "            if i[1][1] not in List1:\n",
    "                List1.append(i[1][1])\n",
    "    \n",
    "    for i in range(0,len(List1)):\n",
    "        List.append([List1[i]])\n",
    "        for h in Q:\n",
    "            List[i].append([])\n",
    "        for j in range(0,len(Q)):\n",
    "            for k in P:\n",
    "                if k[0]==List[i][0] and k[1][0]==Q[j] and len(k[1])==2:\n",
    "                    List[i][j+1].append(k[1][1])\n",
    "                    \n",
    "                    \n",
    "    #Вывод:                \n",
    "    print('Q',end='     ')\n",
    "    for j in Q:\n",
    "        print(j,end='       ')\n",
    "    print()\n",
    "    for i in range(0,len(List1)):\n",
    "        for j in range(0,len(Q)+1):\n",
    "            end1=' '*(5-len(List[i][j]))\n",
    "            if List[i][j]==[]:\n",
    "                end1=' '*7\n",
    "            print(List[i][j],end=end1)\n",
    "        print()    \n",
    "                \n",
    "    \n",
    "    \n",
    "  \n",
    "        \n",
    "        \n",
    "NKG(P2)\n",
    "\n",
    "\n"
   ]
  },
  {
   "cell_type": "code",
   "execution_count": null,
   "metadata": {
    "collapsed": true
   },
   "outputs": [],
   "source": []
  },
  {
   "cell_type": "code",
   "execution_count": null,
   "metadata": {
    "collapsed": true
   },
   "outputs": [],
   "source": []
  }
 ],
 "metadata": {
  "kernelspec": {
   "display_name": "Python 3",
   "language": "python",
   "name": "python3"
  },
  "language_info": {
   "codemirror_mode": {
    "name": "ipython",
    "version": 3
   },
   "file_extension": ".py",
   "mimetype": "text/x-python",
   "name": "python",
   "nbconvert_exporter": "python",
   "pygments_lexer": "ipython3",
   "version": "3.6.3"
  }
 },
 "nbformat": 4,
 "nbformat_minor": 2
}
