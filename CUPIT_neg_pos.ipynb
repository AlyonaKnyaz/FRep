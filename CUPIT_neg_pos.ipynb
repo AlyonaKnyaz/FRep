{
 "cells": [
  {
   "cell_type": "markdown",
   "metadata": {},
   "source": [
    "#                        Здесь мы будем ранжировать отзывы по степени отрицательности.\n",
    "                    Для начала импортируем необходимые библиотеки и загружаем обучающую выбурку."
   ]
  },
  {
   "cell_type": "code",
   "execution_count": 1,
   "metadata": {},
   "outputs": [],
   "source": [
    "#импортируем необходимые модули\n",
    "import pandas\n",
    "import re\n",
    "from sklearn.feature_extraction.text import TfidfVectorizer\n",
    "from sklearn import model_selection\n",
    "from sklearn.feature_selection import SelectKBest, chi2\n",
    "from sklearn.linear_model import LogisticRegression\n",
    "#загружаем обучающую выборку и получаем целевую переменную\n",
    "data = pandas.read_csv('train_data_neg.csv')\n",
    "data['score'] = data['score'].map({'Негативный': 0, 'Позитивный': 1})\n",
    "y = data['score'].values"
   ]
  },
  {
   "cell_type": "markdown",
   "metadata": {},
   "source": [
    "                        Далее подготавливаем текст для дальнейшей работы."
   ]
  },
  {
   "cell_type": "code",
   "execution_count": null,
   "metadata": {},
   "outputs": [],
   "source": [
    "#объединяем заголовок с отзывом в один текст для анализа и приводим к нижнему регистру\n",
    "for index,row in data.iterrows():\n",
    "    data['text'][index]=row['title']+\" \"+row['text']\n",
    "for index,row in data.iterrows():    \n",
    "    data['text'][index]=row['text'].lower()"
   ]
  },
  {
   "cell_type": "code",
   "execution_count": null,
   "metadata": {},
   "outputs": [],
   "source": [
    "#очищаем текст от знаков припинания и чисел \n",
    "reg = re.compile('[^а-яА-я ]')\n",
    "for index,row in data.iterrows():\n",
    "    data['text'][index]=reg.sub('',row['text'])"
   ]
  },
  {
   "cell_type": "code",
   "execution_count": 4,
   "metadata": {},
   "outputs": [],
   "source": [
    "#удаляем ненужные столбцы\n",
    "data=data.drop(['score','title','Unnamed: 0'],1)"
   ]
  },
  {
   "cell_type": "code",
   "execution_count": 5,
   "metadata": {},
   "outputs": [],
   "source": [
    "#составляет словарь стоп-слов\n",
    "dictionary=[\"и\",\"в\",\"на\",\"с\",\"мне\",\"я\",\"банк\", \"по\", \"со\", \"из\", \"от\", \"до\", \"над\", \"под\", \"при\", \"после\", \n",
    "            \"во\",\"это\",\"или\", \"но\", \"дабы\", \"затем\", \"потом\", \"коли\",\"как\", \"так\", \"еще\", \"тот\", \"откуда\", \"зачем\",\n",
    "            \"почему\", \"значительно\",\"он\", \"мы\", \"его\", \"вы\", \"вам\", \"вас\", \"ее\", \"что\", \"который\",\"которая\",\"которое\", \"их\", \n",
    "            \"все\", \"они\", \"я\", \"весь\", \"мне\", \"меня\", \"таким\", \"весь\", \"всех\",\"кб\", \"мб\", \"дн\", \"руб\", \"ул\", \"кв\", \"дн\", \"гг\",\n",
    "            \"всего\", \"почти\", \"примерно\", \"около\", \"порядка\",\"скажем\", \"может\", \"допустим\", \"например\", \n",
    "            \"однако\", \"вообще\", \"вообщем\", \"вероятно\",\"ой\", \"ого\", \"эх\", \n",
    "            \"здравствуйте\",\"банком\",\"банке\",\"банка\",\"к\"]"
   ]
  },
  {
   "cell_type": "code",
   "execution_count": 6,
   "metadata": {},
   "outputs": [],
   "source": [
    "#очищаем данные от стоп-слов и применяем TF-IDF\n",
    "vectorizer = TfidfVectorizer(sublinear_tf=True, max_df=0.7,analyzer='word',stop_words=dictionary)\n",
    "data_vectorized = vectorizer.fit_transform(data['text'])"
   ]
  },
  {
   "cell_type": "markdown",
   "metadata": {},
   "source": [
    "                Здесь выбираем информативные признаки и проверяем качество лучшей полученной модели."
   ]
  },
  {
   "cell_type": "code",
   "execution_count": 7,
   "metadata": {},
   "outputs": [],
   "source": [
    "#выбираем наиболее информативные признаки\n",
    "ch2 = SelectKBest(chi2, k=25000)\n",
    "X_train = ch2.fit_transform(data_vectorized, y)"
   ]
  },
  {
   "cell_type": "code",
   "execution_count": 11,
   "metadata": {},
   "outputs": [
    {
     "name": "stdout",
     "output_type": "stream",
     "text": [
      "Score:0.9331412542690675\n"
     ]
    }
   ],
   "source": [
    "#проверяем качесство нашей лучшей модели на кросс-валидации\n",
    "kf = model_selection.KFold(n_splits=5,shuffle=True,random_state=22)\n",
    "logreg=LogisticRegression(C=5,solver='lbfgs',max_iter=200,random_state=22)\n",
    "sc=model_selection.cross_val_score(logreg, X_train, y,cv=kf,scoring='roc_auc')\n",
    "print(f\"Score:{sc.mean()}\")"
   ]
  },
  {
   "cell_type": "markdown",
   "metadata": {},
   "source": [
    "                    И, наконец, загружаем тестовую выборку, обрабатываем ее и получаем ответ."
   ]
  },
  {
   "cell_type": "code",
   "execution_count": null,
   "metadata": {},
   "outputs": [],
   "source": [
    "#загружаем тестовую выборку и обучаем модель\n",
    "logreg=LogisticRegression(C=5, solver='lbfgs',random_state=22)\n",
    "logreg.fit(data_vectorized, y)\n",
    "test_data=pandas.read_csv('test_data_neg.csv')\n",
    "#преобразуем тестовую выборку к нужному виду\n",
    "for index,row in test_data.iterrows():\n",
    "    test_data['text'][index]=row['title']+\" \"+row['text']\n",
    "for index,row in test_data.iterrows():    \n",
    "    test_data['text'][index]=row['text'].lower()\n",
    "for index,row in test_data.iterrows():\n",
    "    test_data['text'][index]=reg.sub('',row['text'])    \n",
    "    \n",
    "test_data=test_data.drop(['Unnamed: 0','title'],1)\n",
    "test_data_vectorized = vectorizer.transform(test_data['text'])\n",
    "X_test = ch2.transform(test_data_vectorized)\n",
    "\n",
    "pred = logreg.predict_proba(test_data_vectorized)[:, 0]\n",
    "ind=[]\n",
    "for i in range(0,3000):\n",
    "    ind.append(i)\n",
    "df_index=pandas.DataFrame(ind,index=None,columns=['index'])\n",
    "df_score=pandas.DataFrame(pred,index=None,columns=['score'])\n",
    "df=df_index.join(df_score)\n",
    "df.to_csv('ranking_answer.csv ',index=False)"
   ]
  }
 ],
 "metadata": {
  "kernelspec": {
   "display_name": "Python 3",
   "language": "python",
   "name": "python3"
  },
  "language_info": {
   "codemirror_mode": {
    "name": "ipython",
    "version": 3
   },
   "file_extension": ".py",
   "mimetype": "text/x-python",
   "name": "python",
   "nbconvert_exporter": "python",
   "pygments_lexer": "ipython3",
   "version": "3.6.8"
  }
 },
 "nbformat": 4,
 "nbformat_minor": 2
}
