{
 "cells": [
  {
   "cell_type": "code",
   "execution_count": null,
   "metadata": {},
   "outputs": [],
   "source": [
    "import matplotlib.pyplot as plt\n",
    "import matplotlib.patches as patches\n",
    "import numpy as np\n",
    "import math\n",
    "import matplotlib.lines as lines\n",
    "\n",
    "x=0.5\n",
    "y=0.5\n",
    "side=0.1 \n",
    "deep=12 \n",
    "alfa=math.pi\n",
    "\n",
    "\n",
    "fig = plt.figure()\n",
    "ax = fig.add_axes([0,0,10,10])\n",
    "\n",
    "def Pyth_tree( x, y, side, fi, alfa, deep, count):\n",
    "    dx=side*math.sin(fi)\n",
    "    dy=side*math.cos(fi)\n",
    "    x1=x+dx\n",
    "    y1=y+dy   \n",
    "    x2=x+dx-dy\n",
    "    y2=y+dy+dx\n",
    "    x3=x-dy\n",
    "    y3=y+dx\n",
    "    x4=x-dy+side*math.cos(alfa)*math.sin(fi-alfa)\n",
    "    y4=y+dx+side*math.cos(alfa)*math.cos(fi-alfa)\n",
    "    \n",
    "    if count<5:\n",
    "        color=(count/7,count/10,count/12)\n",
    "    elif count<9:\n",
    "        color=(count/13,count/13,count/16)\n",
    "    else: color=(count/18,count/12,count/13)\n",
    "        \n",
    "    p1=patches.Polygon([[x, y], [x1, y1], [x2, y2], [x3, y3]], color=color)\n",
    "    p2=patches.Polygon([[x3, y3], [x2, y2], [x4, y4]], color=color)\n",
    "    ax.add_patch(p1)\n",
    "    ax.add_patch(p2)\n",
    "    if deep>1:\n",
    "        Pyth_tree(x4, y4, side*math.sin(alfa), fi-alfa+math.pi/2, alfa, deep-1, count+1)\n",
    "        Pyth_tree(x3, y3, side*math.cos(alfa), fi-alfa, alfa, deep-1, count+1)\n",
    "\n",
    "Pyth_tree(x, y, side, math.pi/2, alfa/6, deep, 1) \n",
    "ax.set_axis_off() \n",
    "plt.show()"
   ]
  },
  {
   "cell_type": "code",
   "execution_count": null,
   "metadata": {
    "collapsed": true
   },
   "outputs": [],
   "source": []
  }
 ],
 "metadata": {
  "kernelspec": {
   "display_name": "Python 3",
   "language": "python",
   "name": "python3"
  },
  "language_info": {
   "codemirror_mode": {
    "name": "ipython",
    "version": 3
   },
   "file_extension": ".py",
   "mimetype": "text/x-python",
   "name": "python",
   "nbconvert_exporter": "python",
   "pygments_lexer": "ipython3",
   "version": "3.6.3"
  }
 },
 "nbformat": 4,
 "nbformat_minor": 2
}
