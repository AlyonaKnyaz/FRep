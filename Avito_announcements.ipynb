{
 "cells": [
  {
   "cell_type": "markdown",
   "metadata": {},
   "source": [
    "# Предсказание категории объявлений на Авито."
   ]
  },
  {
   "cell_type": "markdown",
   "metadata": {},
   "source": [
    "Для начала импортируем все необходимые модули и загружаем данные."
   ]
  },
  {
   "cell_type": "code",
   "execution_count": 1,
   "metadata": {
    "collapsed": true
   },
   "outputs": [],
   "source": [
    "import pandas as pd\n",
    "import re\n",
    "from sklearn.feature_extraction.text import TfidfVectorizer\n",
    "from sklearn.preprocessing import StandardScaler\n",
    "from scipy.sparse import hstack\n",
    "from sklearn import model_selection\n",
    "from sklearn.linear_model import LogisticRegression\n",
    "from sklearn.model_selection import train_test_split"
   ]
  },
  {
   "cell_type": "code",
   "execution_count": 2,
   "metadata": {},
   "outputs": [
    {
     "data": {
      "text/html": [
       "<div>\n",
       "<style scoped>\n",
       "    .dataframe tbody tr th:only-of-type {\n",
       "        vertical-align: middle;\n",
       "    }\n",
       "\n",
       "    .dataframe tbody tr th {\n",
       "        vertical-align: top;\n",
       "    }\n",
       "\n",
       "    .dataframe thead th {\n",
       "        text-align: right;\n",
       "    }\n",
       "</style>\n",
       "<table border=\"1\" class=\"dataframe\">\n",
       "  <thead>\n",
       "    <tr style=\"text-align: right;\">\n",
       "      <th></th>\n",
       "      <th>item_id</th>\n",
       "      <th>title</th>\n",
       "      <th>description</th>\n",
       "      <th>price</th>\n",
       "      <th>category_id</th>\n",
       "    </tr>\n",
       "  </thead>\n",
       "  <tbody>\n",
       "    <tr>\n",
       "      <th>0</th>\n",
       "      <td>0</td>\n",
       "      <td>Картина</td>\n",
       "      <td>Гобелен. Размеры 139х84см.</td>\n",
       "      <td>1000.0</td>\n",
       "      <td>19</td>\n",
       "    </tr>\n",
       "    <tr>\n",
       "      <th>1</th>\n",
       "      <td>1</td>\n",
       "      <td>Стулья из прессованной кожи</td>\n",
       "      <td>Продам недорого 4 стула из светлой прессованно...</td>\n",
       "      <td>1250.0</td>\n",
       "      <td>22</td>\n",
       "    </tr>\n",
       "    <tr>\n",
       "      <th>2</th>\n",
       "      <td>2</td>\n",
       "      <td>Домашняя мини баня</td>\n",
       "      <td>Мини баня МБ-1(мини сауна), предназначена для ...</td>\n",
       "      <td>13000.0</td>\n",
       "      <td>37</td>\n",
       "    </tr>\n",
       "    <tr>\n",
       "      <th>3</th>\n",
       "      <td>3</td>\n",
       "      <td>Эксклюзивная коллекция книг \"Трансаэро\" + подарок</td>\n",
       "      <td>Продам эксклюзивную коллекцию книг, выпущенную...</td>\n",
       "      <td>4000.0</td>\n",
       "      <td>43</td>\n",
       "    </tr>\n",
       "    <tr>\n",
       "      <th>4</th>\n",
       "      <td>4</td>\n",
       "      <td>Ноутбук aser</td>\n",
       "      <td>Продаётся ноутбук ACER e5-511C2TA. Куплен в ко...</td>\n",
       "      <td>19000.0</td>\n",
       "      <td>1</td>\n",
       "    </tr>\n",
       "  </tbody>\n",
       "</table>\n",
       "</div>"
      ],
      "text/plain": [
       "   item_id                                              title  \\\n",
       "0        0                                            Картина   \n",
       "1        1                        Стулья из прессованной кожи   \n",
       "2        2                                 Домашняя мини баня   \n",
       "3        3  Эксклюзивная коллекция книг \"Трансаэро\" + подарок   \n",
       "4        4                                       Ноутбук aser   \n",
       "\n",
       "                                         description    price  category_id  \n",
       "0                         Гобелен. Размеры 139х84см.   1000.0           19  \n",
       "1  Продам недорого 4 стула из светлой прессованно...   1250.0           22  \n",
       "2  Мини баня МБ-1(мини сауна), предназначена для ...  13000.0           37  \n",
       "3  Продам эксклюзивную коллекцию книг, выпущенную...   4000.0           43  \n",
       "4  Продаётся ноутбук ACER e5-511C2TA. Куплен в ко...  19000.0            1  "
      ]
     },
     "execution_count": 2,
     "metadata": {},
     "output_type": "execute_result"
    }
   ],
   "source": [
    "data=pd.read_csv('train.csv')\n",
    "data.head()"
   ]
  },
  {
   "cell_type": "markdown",
   "metadata": {},
   "source": [
    "Здесь определяем функцию, которая будет очищать и преобразовывать текст. Она объединяет текст с заголовком, приводит его к нижнему регистру и очищает от не буквенных символов."
   ]
  },
  {
   "cell_type": "code",
   "execution_count": 3,
   "metadata": {
    "collapsed": true
   },
   "outputs": [],
   "source": [
    "def transform_text(text_data):\n",
    "    reg = re.compile('[^а-яА-Яa-zA-Z ]')\n",
    "    X_new=[]\n",
    "    for index,row in text_data.iterrows():\n",
    "        X_new.append(row['title']+\" \"+row['description'])\n",
    "    for i in range(len(X_new)):    \n",
    "        X_new[i]=X_new[i].lower()\n",
    "        X_new[i]=reg.sub('',X_new[i])\n",
    "    return(X_new)        "
   ]
  },
  {
   "cell_type": "markdown",
   "metadata": {},
   "source": [
    "Дальше выделяем выборку и целевую переменную, и трансформируем выборку."
   ]
  },
  {
   "cell_type": "code",
   "execution_count": 4,
   "metadata": {
    "collapsed": true
   },
   "outputs": [],
   "source": [
    "X=data.drop(['item_id','category_id'],axis=1)\n",
    "y=data['category_id'].values"
   ]
  },
  {
   "cell_type": "code",
   "execution_count": 5,
   "metadata": {
    "collapsed": true
   },
   "outputs": [],
   "source": [
    "X_train_new=transform_text(X)"
   ]
  },
  {
   "cell_type": "markdown",
   "metadata": {},
   "source": [
    "Затем векторизуем текст по методу TF-IDF. Так же учитываем сочетания 2-х и 3-х слов для векторизации."
   ]
  },
  {
   "cell_type": "code",
   "execution_count": 6,
   "metadata": {
    "collapsed": true
   },
   "outputs": [],
   "source": [
    "vectorizer = TfidfVectorizer(sublinear_tf=True, max_features=40000,ngram_range=(1,3))\n",
    "data_vectorized = vectorizer.fit_transform(X_train_new)"
   ]
  },
  {
   "cell_type": "markdown",
   "metadata": {},
   "source": [
    "Здесь нормализуем цену для дальнейшего соединения с матрицей."
   ]
  },
  {
   "cell_type": "code",
   "execution_count": 7,
   "metadata": {
    "collapsed": true
   },
   "outputs": [],
   "source": [
    "X_ = StandardScaler()\n",
    "price=X['price'].values\n",
    "price=price.reshape(-1, 1)\n",
    "price_std = X_.fit_transform(price)"
   ]
  },
  {
   "cell_type": "markdown",
   "metadata": {},
   "source": [
    "Теперь объединяем матрицу с ценой для формирования единой матрицы признаков."
   ]
  },
  {
   "cell_type": "code",
   "execution_count": 8,
   "metadata": {
    "collapsed": true
   },
   "outputs": [],
   "source": [
    "X_data=hstack((data_vectorized,price_std))"
   ]
  },
  {
   "cell_type": "markdown",
   "metadata": {},
   "source": [
    "Проверяем выбранную модель на кросс-валидации."
   ]
  },
  {
   "cell_type": "code",
   "execution_count": 9,
   "metadata": {},
   "outputs": [
    {
     "name": "stdout",
     "output_type": "stream",
     "text": [
      "Score:0.8369923972645417\n"
     ]
    }
   ],
   "source": [
    "kf = model_selection.KFold(n_splits=5,shuffle=True,random_state=22)\n",
    "logreg=LogisticRegression(solver='lbfgs',C=5, multi_class='auto')\n",
    "sc=model_selection.cross_val_score(logreg, X_data, y,cv=kf,scoring='accuracy')\n",
    "print(f\"Score:{sc.mean()}\")"
   ]
  },
  {
   "cell_type": "markdown",
   "metadata": {},
   "source": [
    "Преобразуем целевую переменную так, чтобы учитывались только 4 наиболее общие категории и проверяем качество модели. Логично, что качество оказывается выше, так как классов становится меньше."
   ]
  },
  {
   "cell_type": "code",
   "execution_count": 10,
   "metadata": {
    "collapsed": true
   },
   "outputs": [],
   "source": [
    "y_second=[]\n",
    "for i in y:\n",
    "    if i in range(0,15):\n",
    "        y_second.append(0)\n",
    "    elif i in range(15,30):\n",
    "        y_second.append(1)\n",
    "    elif i in range(30,42):\n",
    "        y_second.append(2)\n",
    "    elif i in range(42,54):\n",
    "        y_second.append(3)"
   ]
  },
  {
   "cell_type": "code",
   "execution_count": 11,
   "metadata": {},
   "outputs": [
    {
     "name": "stdout",
     "output_type": "stream",
     "text": [
      "Score:0.9429580564613168\n"
     ]
    }
   ],
   "source": [
    "sc=model_selection.cross_val_score(logreg, X_data, y_second,cv=kf,scoring='accuracy')\n",
    "print(f\"Score:{sc.mean()}\")"
   ]
  },
  {
   "cell_type": "markdown",
   "metadata": {},
   "source": [
    "Теперь аналогично преобразуем для менее общих категорий, после которых разбиение будет возможно только на самые мелкие классы."
   ]
  },
  {
   "cell_type": "code",
   "execution_count": 12,
   "metadata": {
    "collapsed": true
   },
   "outputs": [],
   "source": [
    "y_third=[]\n",
    "for i in y:\n",
    "    if i in [0,2,6,9,10,11]:\n",
    "        y_third.append(0)\n",
    "    elif i == 1:\n",
    "        y_third.append(1)\n",
    "    elif i == 3:\n",
    "        y_third.append(2)\n",
    "    elif i in [4,8]:\n",
    "        y_third.append(3)\n",
    "    elif i in [5,12]:\n",
    "        y_third.append(4)\n",
    "    elif i == 7:\n",
    "        y_third.append(5)\n",
    "    elif i in [13,14]:\n",
    "        y_third.append(6)\n",
    "    elif i in [15,17,21,25]:\n",
    "        y_third.append(7)\n",
    "    elif i in [16,18,19,22,23,27,28]:\n",
    "        y_third.append(8)\n",
    "    elif i == 20:\n",
    "        y_third.append(9)\n",
    "    elif i == 24:\n",
    "        y_third.append(10)\n",
    "    elif i in [26,29]:\n",
    "        y_third.append(11)\n",
    "    elif i in [30,32,34,41]:\n",
    "        y_third.append(12)\n",
    "    elif i in [31,33,35,38,39]:\n",
    "        y_third.append(13)\n",
    "    elif i in [36,40]:\n",
    "        y_third.append(14)\n",
    "    elif i == 37:\n",
    "        y_third.append(15)\n",
    "    elif i in [42,46,47]:\n",
    "        y_third.append(16)\n",
    "    elif i in [43,51]:\n",
    "        y_third.append(17)\n",
    "    elif i in [44,45]:\n",
    "        y_third.append(18)\n",
    "    elif i == 48:\n",
    "        y_third.append(19)\n",
    "    elif i == 49:\n",
    "        y_third.append(20)\n",
    "    elif i in [50,52]:\n",
    "        y_third.append(21)\n",
    "    elif i == 53:\n",
    "        y_third.append(22)"
   ]
  },
  {
   "cell_type": "markdown",
   "metadata": {},
   "source": [
    "Проверяем качество для таких классов. Оно оказывается между предыдущими двумя, как и ожидалось."
   ]
  },
  {
   "cell_type": "code",
   "execution_count": 13,
   "metadata": {},
   "outputs": [
    {
     "name": "stdout",
     "output_type": "stream",
     "text": [
      "Score:0.9049062720890342\n"
     ]
    }
   ],
   "source": [
    "sc=model_selection.cross_val_score(logreg, X_data, y_third,cv=kf,scoring='accuracy')\n",
    "print(f\"Score:{sc.mean()}\")"
   ]
  },
  {
   "cell_type": "markdown",
   "metadata": {},
   "source": [
    "Обучаем модель."
   ]
  },
  {
   "cell_type": "code",
   "execution_count": 14,
   "metadata": {
    "collapsed": true
   },
   "outputs": [],
   "source": [
    "model=logreg.fit(X_data,y)"
   ]
  },
  {
   "cell_type": "markdown",
   "metadata": {},
   "source": [
    "Загружаем тестовые данные."
   ]
  },
  {
   "cell_type": "code",
   "execution_count": 15,
   "metadata": {
    "collapsed": true
   },
   "outputs": [],
   "source": [
    "test_data=pd.read_csv('test.csv')\n",
    "X_test=test_data.drop(['item_id'],axis=1)"
   ]
  },
  {
   "cell_type": "markdown",
   "metadata": {},
   "source": [
    "Трасформируем, векторизуем и объединяем тестовые данные."
   ]
  },
  {
   "cell_type": "code",
   "execution_count": 16,
   "metadata": {
    "collapsed": true
   },
   "outputs": [],
   "source": [
    "X_test_new=transform_text(X_test)"
   ]
  },
  {
   "cell_type": "code",
   "execution_count": 17,
   "metadata": {
    "collapsed": true
   },
   "outputs": [],
   "source": [
    "test_data_vectorized = vectorizer.transform(X_test_new)"
   ]
  },
  {
   "cell_type": "code",
   "execution_count": 19,
   "metadata": {
    "collapsed": true
   },
   "outputs": [],
   "source": [
    "test_price=X_test['price'].values\n",
    "test_price=test_price.reshape(-1, 1)\n",
    "test_price_std = X_.transform(test_price)"
   ]
  },
  {
   "cell_type": "code",
   "execution_count": 20,
   "metadata": {
    "collapsed": true
   },
   "outputs": [],
   "source": [
    "X_test_data=hstack((test_data_vectorized,test_price_std))"
   ]
  },
  {
   "cell_type": "markdown",
   "metadata": {},
   "source": [
    "Делаем предсказание и записываем ответы в отдельный файл."
   ]
  },
  {
   "cell_type": "code",
   "execution_count": 21,
   "metadata": {
    "collapsed": true
   },
   "outputs": [],
   "source": [
    "y_pred=model.predict(X_test_data)"
   ]
  },
  {
   "cell_type": "code",
   "execution_count": 24,
   "metadata": {
    "collapsed": true
   },
   "outputs": [],
   "source": [
    "item_id=test_data['item_id'].values\n",
    "df_item=pd.DataFrame(item_id,index=None,columns=['item_id'])\n",
    "df_category=pd.DataFrame(y_pred,index=None,columns=['category_id'])\n",
    "df=df_item.join(df_category)\n",
    "df.to_csv('test_answer.csv',index=False)"
   ]
  }
 ],
 "metadata": {
  "kernelspec": {
   "display_name": "Python 3",
   "language": "python",
   "name": "python3"
  },
  "language_info": {
   "codemirror_mode": {
    "name": "ipython",
    "version": 3
   },
   "file_extension": ".py",
   "mimetype": "text/x-python",
   "name": "python",
   "nbconvert_exporter": "python",
   "pygments_lexer": "ipython3",
   "version": "3.6.3"
  }
 },
 "nbformat": 4,
 "nbformat_minor": 2
}
